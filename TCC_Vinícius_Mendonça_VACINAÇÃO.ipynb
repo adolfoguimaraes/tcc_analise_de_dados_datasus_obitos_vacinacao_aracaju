{
  "nbformat": 4,
  "nbformat_minor": 0,
  "metadata": {
    "colab": {
      "provenance": [],
      "authorship_tag": "ABX9TyNQVGsoON3lpNpQDD3+fi1s",
      "include_colab_link": true
    },
    "kernelspec": {
      "name": "python3",
      "display_name": "Python 3"
    },
    "language_info": {
      "name": "python"
    }
  },
  "cells": [
    {
      "cell_type": "markdown",
      "metadata": {
        "id": "view-in-github",
        "colab_type": "text"
      },
      "source": [
        "<a href=\"https://colab.research.google.com/github/viniciusmendonca95/tcc_vacinacao/blob/main/TCC_Vin%C3%ADcius_Mendon%C3%A7a_VACINA%C3%87%C3%83O.ipynb\" target=\"_parent\"><img src=\"https://colab.research.google.com/assets/colab-badge.svg\" alt=\"Open In Colab\"/></a>"
      ]
    },
    {
      "cell_type": "markdown",
      "source": [
        "## Trabalho de Conclusão de Curso - Ciências da Computação\n",
        "\n",
        "**Aluno:** Vinícius José Santana de Mendonça\n",
        " \n",
        "**Orientador:** Adolfo Guimarães Pinto"
      ],
      "metadata": {
        "id": "6Fe75ZXJNvXf"
      }
    },
    {
      "cell_type": "markdown",
      "source": [
        "#IMPORTS"
      ],
      "metadata": {
        "id": "InMwNzEv_t-B"
      }
    },
    {
      "cell_type": "code",
      "execution_count": null,
      "metadata": {
        "id": "bzW0cah-Ns3y"
      },
      "outputs": [],
      "source": [
        "#IMPORTS\n",
        "import pandas as pd\n",
        "from google.colab import drive\n",
        "from google.colab import files\n",
        "import seaborn as sns\n",
        "import numpy as np"
      ]
    },
    {
      "cell_type": "code",
      "source": [
        "sns.set()"
      ],
      "metadata": {
        "id": "sQs87JF5qCwS"
      },
      "execution_count": null,
      "outputs": []
    },
    {
      "cell_type": "code",
      "source": [
        "#MONTAR O DRIVE PARA IMPORT DOS DATA FRAMES\n",
        "drive.mount('/content/drive')"
      ],
      "metadata": {
        "id": "0BxNP3x657jG"
      },
      "execution_count": null,
      "outputs": []
    },
    {
      "cell_type": "code",
      "source": [
        "#IMPORT DATA FRAMES FINAL\n",
        "vacinacao_se_com_filtro = pd.read_csv('/content/drive/MyDrive/Colab Notebooks/VACINAÇÃO ARACAJU FILTRADO FINAL.csv')"
      ],
      "metadata": {
        "id": "Iqib9KEFkVlZ"
      },
      "execution_count": null,
      "outputs": []
    },
    {
      "cell_type": "code",
      "source": [
        "#IMPORT DATA FRAMES\n",
        "vacinacao_se_01 = pd.read_csv('/content/drive/MyDrive/Colab Notebooks/VACINAÇÃO SERGIPE 01.csv', sep=';')\n",
        "vacinacao_se_02 = pd.read_csv('/content/drive/MyDrive/Colab Notebooks/VACINAÇÃO SERGIPE 02.csv', sep=';')\n",
        "vacinacao_se_03 = pd.read_csv('/content/drive/MyDrive/Colab Notebooks/VACINAÇÃO SERGIPE 03.csv', sep=';')\n",
        "vacinacao_se_04 = pd.read_csv('/content/drive/MyDrive/Colab Notebooks/VACINAÇÃO SERGIPE 04.csv', sep=';')\n",
        "vacinacao_se_05 = pd.read_csv('/content/drive/MyDrive/Colab Notebooks/VACINAÇÃO SERGIPE 05.csv', sep=';')\n"
      ],
      "metadata": {
        "id": "if-4SLTZ0JNR"
      },
      "execution_count": null,
      "outputs": []
    },
    {
      "cell_type": "code",
      "source": [
        "#Junção dos dataframes\n",
        "dataframes_vacinacao = [vacinacao_se_01, vacinacao_se_02, vacinacao_se_03, vacinacao_se_04, vacinacao_se_05]\n",
        "\n",
        "# Concatenação  dos dataframes em uma única estrutura de dados\n",
        "vacinacao_se_sem_filtro = pd.concat(dataframes_vacinacao, ignore_index=True)\n",
        "\n",
        "#Salvando o dataframe contatenado em uma única linha\n",
        "vacinacao_se_sem_filtro.to_csv('/content/drive/MyDrive/Colab Notebooks/VACINAÇÃO SERGIPE SEM FILTRO.csv', index=False)"
      ],
      "metadata": {
        "id": "NK3LViVJABoO"
      },
      "execution_count": null,
      "outputs": []
    },
    {
      "cell_type": "markdown",
      "source": [
        "#FILTRANDO DADOS DE ARACAJU"
      ],
      "metadata": {
        "id": "-6Erme5O_js2"
      }
    },
    {
      "cell_type": "code",
      "source": [
        "#Removendo colunas desnecessárias\n",
        "vacinacao_se_sem_filtro.drop(columns=['document_id', 'paciente_racaCor_codigo', 'paciente_endereco_coIbgeMunicipio', 'paciente_endereco_coPais', 'paciente_endereco_nmPais', 'paciente_endereco_uf', 'paciente_endereco_cep', 'paciente_nacionalidade_enumNacionalidade', 'estabelecimento_valor', 'estabelecimento_municipio_codigo', 'estabelecimento_uf', 'vacina_grupoAtendimento_codigo', 'vacina_categoria_codigo', 'vacina_categoria_nome', 'vacina_lote', 'vacina_fabricante_referencia', 'vacina_codigo', 'sistema_origem', 'vacina_fabricante_nome'], inplace=True)"
      ],
      "metadata": {
        "id": "JsvqdxEx0vSf"
      },
      "execution_count": null,
      "outputs": []
    },
    {
      "cell_type": "code",
      "source": [
        "# Filtrando os dados por ARACAJU\n",
        "filtro_aracaju = vacinacao_se_sem_filtro['estabelecimento_municipio_nome'] == 'ARACAJU'\n",
        "vacinacao_se_com_filtro = vacinacao_se_sem_filtro[filtro_aracaju]"
      ],
      "metadata": {
        "id": "WX7kdGf__SwY"
      },
      "execution_count": null,
      "outputs": []
    },
    {
      "cell_type": "code",
      "source": [
        "# Excluindo as linhas que não estão no filtro\n",
        "vacinacao_se_com_filtro.drop(vacinacao_se_com_filtro[~filtro_aracaju].index, inplace=True)"
      ],
      "metadata": {
        "id": "hBY035aQ_4rG"
      },
      "execution_count": null,
      "outputs": []
    },
    {
      "cell_type": "code",
      "source": [
        "# Salvando o novo arquivo CSV com os dados filtrados\n",
        "vacinacao_se_com_filtro.to_csv('/content/drive/MyDrive/Colab Notebooks/VACINAÇÃO ARACAJU FILTRADO.csv', index=False)"
      ],
      "metadata": {
        "id": "uu2VRaZi_9X3"
      },
      "execution_count": null,
      "outputs": []
    },
    {
      "cell_type": "markdown",
      "source": [
        "#FILTRANDO DADOS EM GERAL\n",
        "\n"
      ],
      "metadata": {
        "id": "IH-0wuAA9omA"
      }
    },
    {
      "cell_type": "code",
      "source": [
        "# Verificando filtro de ARACAJU\n",
        "vacinacao_se_com_filtro.estabelecimento_municipio_nome.value_counts()"
      ],
      "metadata": {
        "id": "53H6pmdY9EtC"
      },
      "execution_count": null,
      "outputs": []
    },
    {
      "cell_type": "code",
      "source": [
        "#Verificar linhas duplicadas\n",
        "vacinacao_se_com_filtro.drop_duplicates(inplace=True)"
      ],
      "metadata": {
        "id": "Gmggx_uN96U4"
      },
      "execution_count": null,
      "outputs": []
    },
    {
      "cell_type": "code",
      "source": [
        "#Verificar data de nascimento se está dentro do padrão\n",
        "\n",
        "maior_valor = vacinacao_se_com_filtro['paciente_idade'].max()\n",
        "menor_valor = vacinacao_se_com_filtro['paciente_idade'].min()\n",
        "media_valor = vacinacao_se_com_filtro['paciente_idade'].mean()\n",
        "\n",
        "print(f\" MAIOR IDADE: {maior_valor}\")\n",
        "print(f\" MENOR IDADE: {menor_valor}\")\n",
        "print(f\" MEDIA IDADES: {media_valor}\")\n",
        "\n"
      ],
      "metadata": {
        "id": "7izraEHXDMqd"
      },
      "execution_count": null,
      "outputs": []
    },
    {
      "cell_type": "code",
      "source": [
        "#Limpando Dataframe com idades > 100\n",
        "vacinacao_se_com_filtro = vacinacao_se_com_filtro.drop(vacinacao_se_com_filtro.loc[vacinacao_se_com_filtro['paciente_idade'] > 100].index)"
      ],
      "metadata": {
        "id": "0Fjw3hvVE9fs"
      },
      "execution_count": null,
      "outputs": []
    },
    {
      "cell_type": "code",
      "source": [
        "#Verificar data de vacinação se está dentro do padrão\n",
        "maior_valor = vacinacao_se_com_filtro['vacina_dataAplicacao'].max()\n",
        "menor_valor = vacinacao_se_com_filtro['vacina_dataAplicacao'].min()\n",
        "\n",
        "print(f\" DATA FINAL: {maior_valor}\")\n",
        "print(f\" DATA INICIAL: {menor_valor}\")\n",
        "\n"
      ],
      "metadata": {
        "id": "EYUip3yaDKha"
      },
      "execution_count": null,
      "outputs": []
    },
    {
      "cell_type": "code",
      "source": [
        "#Limpando Dataframe com datas antes de 17 de janeiro de 2021\n",
        "vacinacao_se_com_filtro = vacinacao_se_com_filtro.drop(vacinacao_se_com_filtro.loc[vacinacao_se_com_filtro['vacina_dataAplicacao'] < '2021-01-17'].index)"
      ],
      "metadata": {
        "id": "GP3AJBflFAY9"
      },
      "execution_count": null,
      "outputs": []
    },
    {
      "cell_type": "code",
      "source": [
        "#Ajustes de colunas sem dados e troca de dados inconsistentes\n",
        "vacinacao_se_com_filtro['paciente_enumSexoBiologico'] = vacinacao_se_com_filtro['paciente_enumSexoBiologico'].fillna('SEM INFORMACAO').replace('I', 'SEM INFORMACAO')\n",
        "vacinacao_se_com_filtro['paciente_racaCor_valor'] = vacinacao_se_com_filtro['paciente_racaCor_valor'].fillna('SEM INFORMACAO')\n",
        "vacinacao_se_com_filtro['paciente_idade'] = vacinacao_se_com_filtro['paciente_idade'].fillna(40.0)\n",
        "vacinacao_se_com_filtro['paciente_dataNascimento'] = vacinacao_se_com_filtro['paciente_dataNascimento'].fillna('SEM INFORMACAO')\n",
        "vacinacao_se_com_filtro['paciente_endereco_nmMunicipio'] = vacinacao_se_com_filtro['paciente_endereco_nmMunicipio'].fillna('SEM INFORMACAO')\n",
        "vacinacao_se_com_filtro['vacina_grupoAtendimento_nome'] = vacinacao_se_com_filtro['vacina_grupoAtendimento_nome'].fillna('SEM INFORMACAO')\n",
        "vacinacao_se_com_filtro['vacina_descricao_dose'] = vacinacao_se_com_filtro['vacina_descricao_dose'].replace('Dose', '1ª Dose')\n",
        "vacinacao_se_com_filtro['vacina_descricao_dose'] = vacinacao_se_com_filtro['vacina_descricao_dose'].replace('Reforço', '2ª Dose')\n",
        "vacinacao_se_com_filtro['vacina_descricao_dose'] = vacinacao_se_com_filtro['vacina_descricao_dose'].replace('2º Reforço', '3ª Dose')\n",
        "vacinacao_se_com_filtro['vacina_descricao_dose'] = vacinacao_se_com_filtro['vacina_descricao_dose'].replace('3º Reforço', '4ª Dose')\n",
        "vacinacao_se_com_filtro['vacina_descricao_dose'] = vacinacao_se_com_filtro['vacina_descricao_dose'].replace('Dose Adicional', '2ª Dose')\n",
        "vacinacao_se_com_filtro['vacina_descricao_dose'] = vacinacao_se_com_filtro['vacina_descricao_dose'].replace('4ª Dose Revacinação', '4ª Dose')\n",
        "vacinacao_se_com_filtro['vacina_descricao_dose'] = vacinacao_se_com_filtro['vacina_descricao_dose'].replace('1ª Dose', 'Aux')\n",
        "vacinacao_se_com_filtro['vacina_descricao_dose'] = vacinacao_se_com_filtro['vacina_descricao_dose'].replace('2ª Dose', '1ª Dose')\n",
        "vacinacao_se_com_filtro['vacina_descricao_dose'] = vacinacao_se_com_filtro['vacina_descricao_dose'].replace('Aux', '2ª Dose')\n",
        "vacinacao_se_com_filtro['vacina_nome'] = vacinacao_se_com_filtro['vacina_nome'].replace('COVID-19 PFIZER - COMIRNATY BIVALENTE', 'COVID-19 PFIZER - COMIRNATY')\n",
        "vacinacao_se_com_filtro['vacina_nome'] = vacinacao_se_com_filtro['vacina_nome'].replace('COVID-19 PFIZER - COMIRNATY PEDIÁTRICA MENOR DE 5 ANOS', 'COVID-19 PFIZER - COMIRNATY PEDIÁTRICA')\n",
        "vacinacao_se_com_filtro['vacina_nome'] = vacinacao_se_com_filtro['vacina_nome'].replace('COVID-19 PEDIÁTRICA - PFIZER COMIRNATY', 'COVID-19 PFIZER - COMIRNATY PEDIÁTRICA')"
      ],
      "metadata": {
        "id": "Aq9U-SAFDX9F"
      },
      "execution_count": null,
      "outputs": []
    },
    {
      "cell_type": "code",
      "source": [
        "# Salvando o novo arquivo CSV com os dados filtrados FINAL\n",
        "vacinacao_se_com_filtro.to_csv('/content/drive/MyDrive/Colab Notebooks/VACINAÇÃO ARACAJU FILTRADO FINAL.csv', index=False)"
      ],
      "metadata": {
        "id": "CuO_2g_n9-ag"
      },
      "execution_count": null,
      "outputs": []
    },
    {
      "cell_type": "markdown",
      "source": [
        "#ANALISANDO DADOS"
      ],
      "metadata": {
        "id": "SoMH3XNwzLcD"
      }
    },
    {
      "cell_type": "code",
      "source": [
        "#Quantidade de vacinas distribuidas\n",
        "qntd_vacinas = vacinacao_se_com_filtro.shape[0]\n",
        "print(f\"Quantidade de vacinas distribuídas em Aracaju: {qntd_vacinas}\")"
      ],
      "metadata": {
        "id": "QWnEjw8ZzO98"
      },
      "execution_count": null,
      "outputs": []
    },
    {
      "cell_type": "code",
      "source": [
        "#Quantidade de pessoas vacinadas\n",
        "qntd_vacinados = vacinacao_se_com_filtro.groupby('paciente_id').count()\n",
        "qntd_vacinados = qntd_vacinados.shape[0]\n",
        "\n",
        "print(f\"Quantidade de pessoas vacinadas em Aracaju: {qntd_vacinados}\")"
      ],
      "metadata": {
        "id": "YI1kfmRO0IqD"
      },
      "execution_count": null,
      "outputs": []
    },
    {
      "cell_type": "code",
      "source": [
        "#Dados de idades de pessoas vacinadas\n",
        "maior_valor = vacinacao_se_com_filtro['paciente_idade'].max()\n",
        "menor_valor = vacinacao_se_com_filtro['paciente_idade'].min()\n",
        "media_valor = vacinacao_se_com_filtro['paciente_idade'].mean()\n",
        "\n",
        "qntd_vacinados_por_idade = vacinacao_se_com_filtro.groupby('paciente_idade').count()\n",
        "\n",
        "print(f\" MAIOR IDADE: {maior_valor}\")\n",
        "print(f\" MENOR IDADE: {menor_valor}\")\n",
        "print(f\" MEDIA IDADES: {media_valor}\")\n",
        "\n",
        "qntd_vacinados_por_idade"
      ],
      "metadata": {
        "id": "YPnr-eVM5K-n"
      },
      "execution_count": null,
      "outputs": []
    },
    {
      "cell_type": "code",
      "source": [
        "#Dados referente a sexo\n",
        "dados_sexo = vacinacao_se_com_filtro.paciente_enumSexoBiologico.value_counts()\n",
        "dados_sexo_normalizado = vacinacao_se_com_filtro.paciente_enumSexoBiologico.value_counts(normalize=True)\n",
        "\n",
        "print(f\"Quantidade de vacinados por sexo:\\n{dados_sexo}\")\n",
        "print(\"\")\n",
        "print(f\"Quantidade de vacinados por sexo (em percentual):\\n{dados_sexo_normalizado}\")"
      ],
      "metadata": {
        "id": "gi2XBaCf7A0k"
      },
      "execution_count": null,
      "outputs": []
    },
    {
      "cell_type": "code",
      "source": [
        "#Dados referente a raça\n",
        "dados_raca = vacinacao_se_com_filtro.paciente_racaCor_valor.value_counts()\n",
        "dados_raca_normalizado = vacinacao_se_com_filtro.paciente_racaCor_valor.value_counts(normalize=True)\n",
        "\n",
        "print(f\"Quantidade de vacinados por raça:\\n{dados_raca}\")\n",
        "print(\"\")\n",
        "print(f\"Quantidade de vacinados por raça (em percentual):\\n{dados_raca_normalizado}\")"
      ],
      "metadata": {
        "id": "x4l6X2JH8WHo"
      },
      "execution_count": null,
      "outputs": []
    },
    {
      "cell_type": "code",
      "source": [
        "#Dados referente a municipio do paciente\n",
        "dados_paciente_municipio = vacinacao_se_com_filtro.paciente_endereco_nmMunicipio.value_counts().nlargest(50)\n",
        "dados_paciente_municipio_normalizado = vacinacao_se_com_filtro.paciente_endereco_nmMunicipio.value_counts(normalize=True)\n",
        "\n",
        "print(f\"Quantidade de vacinados por município do paciente:\\n{dados_paciente_municipio}\")\n",
        "print(\"\")\n",
        "print(f\"Quantidade de vacinados por municipio do paciente (em percentual):\\n{dados_paciente_municipio_normalizado}\")"
      ],
      "metadata": {
        "id": "uXkvzWgI83JD"
      },
      "execution_count": null,
      "outputs": []
    },
    {
      "cell_type": "code",
      "source": [
        "#Dados referente ao estabelecimento de vacinação\n",
        "dados_estabelecimento = vacinacao_se_com_filtro.estalecimento_noFantasia.value_counts()\n",
        "dados_estabelecimento_normalizado = vacinacao_se_com_filtro.estalecimento_noFantasia.value_counts(normalize=True)\n",
        "\n",
        "print(f\"Quantidade de vacinados por estabelecimento:\\n{dados_estabelecimento}\")\n",
        "print(\"\")\n",
        "print(f\"Quantidade de vacinados por estabelecimento (em percentual):\\n{dados_estabelecimento_normalizado}\")"
      ],
      "metadata": {
        "id": "IBbOilO19rv1"
      },
      "execution_count": null,
      "outputs": []
    },
    {
      "cell_type": "code",
      "source": [
        "#Dados referente a vacinação por faixa etária\n",
        "filtro_12a17_anos = vacinacao_se_com_filtro['vacina_grupoAtendimento_nome'] == 'Pessoas de 12 a 17 anos'\n",
        "dados_filtrados_12a17_anos = vacinacao_se_com_filtro[filtro_12a17_anos]\n",
        "dados_filtrados_12a17_anos_masculino = dados_filtrados_12a17_anos['paciente_enumSexoBiologico'] == 'M'\n",
        "dados_filtrados_12a17_anos_feminino = dados_filtrados_12a17_anos['paciente_enumSexoBiologico'] == 'F'\n",
        "qntd_vacinados_12a17_anos = len(dados_filtrados_12a17_anos)\n",
        "qntd_filtrados_12a17_anos_masculino = dados_filtrados_12a17_anos[dados_filtrados_12a17_anos_masculino]\n",
        "qntd_filtrados_12a17_anos_feminino = dados_filtrados_12a17_anos[dados_filtrados_12a17_anos_feminino]\n",
        "qntd_vacinados_12a17_anos_masculino = len(qntd_filtrados_12a17_anos_masculino)\n",
        "qntd_vacinados_12a17_anos_feminino = len(qntd_filtrados_12a17_anos_feminino)\n",
        "\n",
        "\n",
        "filtro_18a64_anos = vacinacao_se_com_filtro['vacina_grupoAtendimento_nome'] == 'Pessoas de 18 a 64 anos'\n",
        "dados_filtrados_18a64_anos = vacinacao_se_com_filtro[filtro_18a64_anos]\n",
        "dados_filtrados_18a64_anos_masculino = dados_filtrados_18a64_anos['paciente_enumSexoBiologico'] == 'M'\n",
        "dados_filtrados_18a64_anos_feminino = dados_filtrados_18a64_anos['paciente_enumSexoBiologico'] == 'F'\n",
        "qntd_vacinados_18a64_anos = len(dados_filtrados_18a64_anos)\n",
        "qntd_filtrados_18a64_anos_masculino = dados_filtrados_18a64_anos[dados_filtrados_18a64_anos_masculino]\n",
        "qntd_filtrados_18a64_anos_feminino = dados_filtrados_18a64_anos[dados_filtrados_18a64_anos_feminino]\n",
        "qntd_vacinados_18a64_anos_masculino = len(qntd_filtrados_18a64_anos_masculino)\n",
        "qntd_vacinados_18a64_anos_feminino = len(qntd_filtrados_18a64_anos_feminino)\n",
        "\n",
        "\n",
        "filtro_3a4_anos = vacinacao_se_com_filtro['vacina_grupoAtendimento_nome'] == 'Pessoas de 3 a 4 anos'\n",
        "dados_filtrados_3a4_anos = vacinacao_se_com_filtro[filtro_3a4_anos]\n",
        "dados_filtrados_3a4_anos_masculino = dados_filtrados_3a4_anos['paciente_enumSexoBiologico'] == 'M'\n",
        "dados_filtrados_3a4_anos_feminino = dados_filtrados_3a4_anos['paciente_enumSexoBiologico'] == 'F'\n",
        "qntd_vacinados_3a4_anos = len(dados_filtrados_3a4_anos)\n",
        "qntd_filtrados_3a4_anos_masculino = dados_filtrados_3a4_anos[dados_filtrados_3a4_anos_masculino]\n",
        "qntd_filtrados_3a4_anos_feminino = dados_filtrados_3a4_anos[dados_filtrados_3a4_anos_feminino]\n",
        "qntd_vacinados_3a4_anos_masculino = len(qntd_filtrados_3a4_anos_masculino)\n",
        "qntd_vacinados_3a4_anos_feminino = len(qntd_filtrados_3a4_anos_feminino)\n",
        "\n",
        "\n",
        "filtro_5a11_anos = vacinacao_se_com_filtro['vacina_grupoAtendimento_nome'] == 'Pessoas de 5 a 11 anos'\n",
        "dados_filtrados_5a11_anos = vacinacao_se_com_filtro[filtro_5a11_anos]\n",
        "dados_filtrados_5a11_anos_masculino = dados_filtrados_5a11_anos['paciente_enumSexoBiologico'] == 'M'\n",
        "dados_filtrados_5a11_anos_feminino = dados_filtrados_5a11_anos['paciente_enumSexoBiologico'] == 'F'\n",
        "qntd_vacinados_5a11_anos = len(dados_filtrados_5a11_anos)\n",
        "qntd_filtrados_5a11_anos_masculino = dados_filtrados_5a11_anos[dados_filtrados_5a11_anos_masculino]\n",
        "qntd_filtrados_5a11_anos_feminino = dados_filtrados_5a11_anos[dados_filtrados_5a11_anos_feminino]\n",
        "qntd_vacinados_5a11_anos_masculino = len(qntd_filtrados_5a11_anos_masculino)\n",
        "qntd_vacinados_5a11_anos_feminino = len(qntd_filtrados_5a11_anos_feminino)\n",
        "\n",
        "\n",
        "filtro_6ma2_anos = vacinacao_se_com_filtro['vacina_grupoAtendimento_nome'] == 'Pessoas de 6 meses a 2 anos'\n",
        "dados_filtrados_6ma2_anos = vacinacao_se_com_filtro[filtro_6ma2_anos]\n",
        "dados_filtrados_6ma2_anos_masculino = dados_filtrados_6ma2_anos['paciente_enumSexoBiologico'] == 'M'\n",
        "dados_filtrados_6ma2_anos_feminino = dados_filtrados_6ma2_anos['paciente_enumSexoBiologico'] == 'F'\n",
        "qntd_vacinados_6ma2_anos = len(dados_filtrados_6ma2_anos)\n",
        "qntd_filtrados_6ma2_anos_masculino = dados_filtrados_6ma2_anos[dados_filtrados_6ma2_anos_masculino]\n",
        "qntd_filtrados_6ma2_anos_feminino = dados_filtrados_6ma2_anos[dados_filtrados_6ma2_anos_feminino]\n",
        "qntd_vacinados_6ma2_anos_masculino = len(qntd_filtrados_6ma2_anos_masculino)\n",
        "qntd_vacinados_6ma2_anos_feminino = len(qntd_filtrados_6ma2_anos_feminino)\n",
        "\n",
        "\n",
        "filtro_65a69_anos = vacinacao_se_com_filtro['vacina_grupoAtendimento_nome'] == 'Pessoas de 65 a 69 anos'\n",
        "dados_filtrados_65a69_anos = vacinacao_se_com_filtro[filtro_65a69_anos]\n",
        "dados_filtrados_65a69_anos_masculino = dados_filtrados_65a69_anos['paciente_enumSexoBiologico'] == 'M'\n",
        "dados_filtrados_65a69_anos_feminino = dados_filtrados_65a69_anos['paciente_enumSexoBiologico'] == 'F'\n",
        "qntd_vacinados_65a69_anos = len(dados_filtrados_65a69_anos)\n",
        "qntd_filtrados_65a69_anos_masculino = dados_filtrados_65a69_anos[dados_filtrados_65a69_anos_masculino]\n",
        "qntd_filtrados_65a69_anos_feminino = dados_filtrados_65a69_anos[dados_filtrados_65a69_anos_feminino]\n",
        "qntd_vacinados_65a69_anos_masculino = len(qntd_filtrados_65a69_anos_masculino)\n",
        "qntd_vacinados_65a69_anos_feminino = len(qntd_filtrados_65a69_anos_feminino)\n",
        "\n",
        "\n",
        "filtro_70a74_anos = vacinacao_se_com_filtro['vacina_grupoAtendimento_nome'] == 'Pessoas de 70 a 74 anos'\n",
        "dados_filtrados_70a74_anos = vacinacao_se_com_filtro[filtro_70a74_anos]\n",
        "dados_filtrados_70a74_anos_masculino = dados_filtrados_70a74_anos['paciente_enumSexoBiologico'] == 'M'\n",
        "dados_filtrados_70a74_anos_feminino = dados_filtrados_70a74_anos['paciente_enumSexoBiologico'] == 'F'\n",
        "qntd_vacinados_70a74_anos = len(dados_filtrados_70a74_anos)\n",
        "qntd_filtrados_70a74_anos_masculino = dados_filtrados_70a74_anos[dados_filtrados_70a74_anos_masculino]\n",
        "qntd_filtrados_70a74_anos_feminino = dados_filtrados_70a74_anos[dados_filtrados_70a74_anos_feminino]\n",
        "qntd_vacinados_70a74_anos_masculino = len(qntd_filtrados_70a74_anos_masculino)\n",
        "qntd_vacinados_70a74_anos_feminino = len(qntd_filtrados_70a74_anos_feminino)\n",
        "\n",
        "\n",
        "filtro_75a79_anos = vacinacao_se_com_filtro['vacina_grupoAtendimento_nome'] == 'Pessoas de 75 a 79 anos'\n",
        "dados_filtrados_75a79_anos = vacinacao_se_com_filtro[filtro_75a79_anos]\n",
        "dados_filtrados_75a79_anos_masculino = dados_filtrados_75a79_anos['paciente_enumSexoBiologico'] == 'M'\n",
        "dados_filtrados_75a79_anos_feminino = dados_filtrados_75a79_anos['paciente_enumSexoBiologico'] == 'F'\n",
        "qntd_vacinados_75a79_anos = len(dados_filtrados_75a79_anos)\n",
        "qntd_filtrados_75a79_anos_masculino = dados_filtrados_75a79_anos[dados_filtrados_75a79_anos_masculino]\n",
        "qntd_filtrados_75a79_anos_feminino = dados_filtrados_75a79_anos[dados_filtrados_75a79_anos_feminino]\n",
        "qntd_vacinados_75a79_anos_masculino = len(qntd_filtrados_75a79_anos_masculino)\n",
        "qntd_vacinados_75a79_anos_feminino = len(qntd_filtrados_75a79_anos_feminino)\n",
        "\n",
        "\n",
        "filtro_80_mais_anos = vacinacao_se_com_filtro['vacina_grupoAtendimento_nome'] == 'Pessoas de 80 anos ou mais'\n",
        "dados_filtrados_80_mais_anos = vacinacao_se_com_filtro[filtro_80_mais_anos]\n",
        "dados_filtrados_80_mais_anos_masculino = dados_filtrados_80_mais_anos['paciente_enumSexoBiologico'] == 'M'\n",
        "dados_filtrados_80_mais_anos_feminino = dados_filtrados_80_mais_anos['paciente_enumSexoBiologico'] == 'F'\n",
        "qntd_vacinados_80_mais_anos = len(dados_filtrados_80_mais_anos)\n",
        "qntd_filtrados_80_mais_anos_masculino = dados_filtrados_80_mais_anos[dados_filtrados_80_mais_anos_masculino]\n",
        "qntd_filtrados_80_mais_anos_feminino = dados_filtrados_80_mais_anos[dados_filtrados_80_mais_anos_feminino]\n",
        "qntd_vacinados_80_mais_anos_masculino = len(qntd_filtrados_80_mais_anos_masculino)\n",
        "qntd_vacinados_80_mais_anos_feminino = len(qntd_filtrados_80_mais_anos_feminino)\n",
        "\n",
        "\n",
        "\n",
        "print(\"Quantidade de vacinados (TOTAL):\")\n",
        "print(f\"6 meses a 2 anos: {qntd_vacinados_6ma2_anos}\")\n",
        "print(f\"3 a 4 anos: {qntd_vacinados_3a4_anos}\")\n",
        "print(f\"5 a 11 anos: {qntd_vacinados_5a11_anos}\")\n",
        "print(f\"12 a 17 anos: {qntd_vacinados_12a17_anos}\")\n",
        "print(f\"18 a 64 anos: {qntd_vacinados_18a64_anos}\")\n",
        "print(f\"65 a 69 anos: {qntd_vacinados_65a69_anos}\")\n",
        "print(f\"70 a 74 anos: {qntd_vacinados_70a74_anos}\")\n",
        "print(f\"75 a 79 anos: {qntd_vacinados_75a79_anos}\")\n",
        "print(f\"80 ou mais anos: {qntd_vacinados_80_mais_anos}\")\n",
        "print(\"\")\n",
        "print(\"Percentual de vacinados:\")\n",
        "print(f\"6 meses a 2 anos: {(qntd_vacinados_6ma2_anos/len(vacinacao_se_com_filtro))*100}\")\n",
        "print(f\"3 a 4 anos: {(qntd_vacinados_3a4_anos/len(vacinacao_se_com_filtro))*100}\")\n",
        "print(f\"5 a 11 anos: {(qntd_vacinados_5a11_anos/len(vacinacao_se_com_filtro))*100}\")\n",
        "print(f\"12 a 17 anos: {(qntd_vacinados_12a17_anos/len(vacinacao_se_com_filtro))*100}\")\n",
        "print(f\"18 a 64 anos: {(qntd_vacinados_18a64_anos/len(vacinacao_se_com_filtro))*100}\")\n",
        "print(f\"65 a 69 anos: {(qntd_vacinados_65a69_anos/len(vacinacao_se_com_filtro))*100}\")\n",
        "print(f\"70 a 74 anos: {(qntd_vacinados_70a74_anos/len(vacinacao_se_com_filtro))*100}\")\n",
        "print(f\"75 a 79 anos: {(qntd_vacinados_75a79_anos/len(vacinacao_se_com_filtro))*100}\")\n",
        "print(f\"80 ou mais anos: {(qntd_vacinados_80_mais_anos/len(vacinacao_se_com_filtro))*100}\")\n",
        "percentual_qntd_vacinados_faixa_etaria = [(qntd_vacinados_6ma2_anos/len(vacinacao_se_com_filtro))*100, (qntd_vacinados_3a4_anos/len(vacinacao_se_com_filtro))*100, (qntd_vacinados_5a11_anos/len(vacinacao_se_com_filtro))*100, (qntd_vacinados_12a17_anos/len(vacinacao_se_com_filtro))*100, (qntd_vacinados_18a64_anos/len(vacinacao_se_com_filtro))*100, (qntd_vacinados_65a69_anos/len(vacinacao_se_com_filtro))*100, (qntd_vacinados_70a74_anos/len(vacinacao_se_com_filtro))*100, (qntd_vacinados_75a79_anos/len(vacinacao_se_com_filtro))*100, (qntd_vacinados_80_mais_anos/len(vacinacao_se_com_filtro))*100]\n",
        "percentual_qntd_vacinados_faixa_etaria = 100 - sum(percentual_qntd_vacinados_faixa_etaria)\n",
        "print(f\"PERCENTUAL DE VACINADOS QUE NÃO TOMARAM VACINA POR FAIXA ETÁRIA: {percentual_qntd_vacinados_faixa_etaria:.2f}%\")\n",
        "\n",
        "print(\"========================================================================================================================================================================\")\n",
        "\n",
        "print(\"Quantidade de vacinados (MASCULINO):\")\n",
        "print(f\"6 meses a 2 anos: {qntd_vacinados_6ma2_anos_masculino}\")\n",
        "print(f\"3 a 4 anos: {qntd_vacinados_3a4_anos_masculino}\")\n",
        "print(f\"5 a 11 anos: {qntd_vacinados_5a11_anos_masculino}\")\n",
        "print(f\"12 a 17 anos: {qntd_vacinados_12a17_anos_masculino}\")\n",
        "print(f\"18 a 64 anos: {qntd_vacinados_18a64_anos_masculino}\")\n",
        "print(f\"65 a 69 anos: {qntd_vacinados_65a69_anos_masculino}\")\n",
        "print(f\"70 a 74 anos: {qntd_vacinados_70a74_anos_masculino}\")\n",
        "print(f\"75 a 79 anos: {qntd_vacinados_75a79_anos_masculino}\")\n",
        "print(f\"80 ou mais anos: {qntd_vacinados_80_mais_anos_masculino}\")\n",
        "print(\"\")\n",
        "print(\"Percentual de vacinados:\")\n",
        "print(f\"6 meses a 2 anos: {(qntd_vacinados_6ma2_anos_masculino/len(vacinacao_se_com_filtro))*100}\")\n",
        "print(f\"3 a 4 anos: {(qntd_vacinados_3a4_anos_masculino/len(vacinacao_se_com_filtro))*100}\")\n",
        "print(f\"5 a 11 anos: {(qntd_vacinados_5a11_anos_masculino/len(vacinacao_se_com_filtro))*100}\")\n",
        "print(f\"12 a 17 anos: {(qntd_vacinados_12a17_anos_masculino/len(vacinacao_se_com_filtro))*100}\")\n",
        "print(f\"18 a 64 anos: {(qntd_vacinados_18a64_anos_masculino/len(vacinacao_se_com_filtro))*100}\")\n",
        "print(f\"65 a 69 anos: {(qntd_vacinados_65a69_anos_masculino/len(vacinacao_se_com_filtro))*100}\")\n",
        "print(f\"70 a 74 anos: {(qntd_vacinados_70a74_anos_masculino/len(vacinacao_se_com_filtro))*100}\")\n",
        "print(f\"75 a 79 anos: {(qntd_vacinados_75a79_anos_masculino/len(vacinacao_se_com_filtro))*100}\")\n",
        "print(f\"80 ou mais anos: {(qntd_vacinados_80_mais_anos_masculino/len(vacinacao_se_com_filtro))*100}\")\n",
        "percentual_qntd_vacinados_faixa_etaria_masculino = [(qntd_vacinados_6ma2_anos_masculino/len(vacinacao_se_com_filtro))*100, (qntd_vacinados_3a4_anos_masculino/len(vacinacao_se_com_filtro))*100, (qntd_vacinados_5a11_anos_masculino/len(vacinacao_se_com_filtro))*100, (qntd_vacinados_12a17_anos_masculino/len(vacinacao_se_com_filtro))*100, (qntd_vacinados_18a64_anos_masculino/len(vacinacao_se_com_filtro))*100, (qntd_vacinados_65a69_anos_masculino/len(vacinacao_se_com_filtro))*100, (qntd_vacinados_70a74_anos_masculino/len(vacinacao_se_com_filtro))*100, (qntd_vacinados_75a79_anos_masculino/len(vacinacao_se_com_filtro))*100, (qntd_vacinados_80_mais_anos_masculino/len(vacinacao_se_com_filtro))*100]\n",
        "percentual_qntd_vacinados_faixa_etaria_masculino = 100 - sum(percentual_qntd_vacinados_faixa_etaria_masculino)\n",
        "print(f\"PERCENTUAL DE VACINADOS QUE NÃO TOMARAM VACINA POR FAIXA ETÁRIA: {percentual_qntd_vacinados_faixa_etaria_masculino:.2f}%\")\n",
        "\n",
        "print(\"========================================================================================================================================================================\")\n",
        "\n",
        "print(\"Quantidade de vacinados (FEMININO):\")\n",
        "print(f\"6 meses a 2 anos: {qntd_vacinados_6ma2_anos_feminino}\")\n",
        "print(f\"3 a 4 anos: {qntd_vacinados_3a4_anos_feminino}\")\n",
        "print(f\"5 a 11 anos: {qntd_vacinados_5a11_anos_feminino}\")\n",
        "print(f\"12 a 17 anos: {qntd_vacinados_12a17_anos_feminino}\")\n",
        "print(f\"18 a 64 anos: {qntd_vacinados_18a64_anos_feminino}\")\n",
        "print(f\"65 a 69 anos: {qntd_vacinados_65a69_anos_feminino}\")\n",
        "print(f\"70 a 74 anos: {qntd_vacinados_70a74_anos_feminino}\")\n",
        "print(f\"75 a 79 anos: {qntd_vacinados_75a79_anos_feminino}\")\n",
        "print(f\"80 ou mais anos: {qntd_vacinados_80_mais_anos_feminino}\")\n",
        "print(\"\")\n",
        "print(\"Percentual de vacinados:\")\n",
        "print(f\"6 meses a 2 anos: {(qntd_vacinados_6ma2_anos_feminino/len(vacinacao_se_com_filtro))*100}\")\n",
        "print(f\"3 a 4 anos: {(qntd_vacinados_3a4_anos_feminino/len(vacinacao_se_com_filtro))*100}\")\n",
        "print(f\"5 a 11 anos: {(qntd_vacinados_5a11_anos_feminino/len(vacinacao_se_com_filtro))*100}\")\n",
        "print(f\"12 a 17 anos: {(qntd_vacinados_12a17_anos_feminino/len(vacinacao_se_com_filtro))*100}\")\n",
        "print(f\"18 a 64 anos: {(qntd_vacinados_18a64_anos_feminino/len(vacinacao_se_com_filtro))*100}\")\n",
        "print(f\"65 a 69 anos: {(qntd_vacinados_65a69_anos_feminino/len(vacinacao_se_com_filtro))*100}\")\n",
        "print(f\"70 a 74 anos: {(qntd_vacinados_70a74_anos_feminino/len(vacinacao_se_com_filtro))*100}\")\n",
        "print(f\"75 a 79 anos: {(qntd_vacinados_75a79_anos_feminino/len(vacinacao_se_com_filtro))*100}\")\n",
        "print(f\"80 ou mais anos: {(qntd_vacinados_80_mais_anos_feminino/len(vacinacao_se_com_filtro))*100}\")\n",
        "percentual_qntd_vacinados_faixa_etaria_feminino = [(qntd_vacinados_6ma2_anos_feminino/len(vacinacao_se_com_filtro))*100, (qntd_vacinados_3a4_anos_feminino/len(vacinacao_se_com_filtro))*100, (qntd_vacinados_5a11_anos_feminino/len(vacinacao_se_com_filtro))*100, (qntd_vacinados_12a17_anos_feminino/len(vacinacao_se_com_filtro))*100, (qntd_vacinados_18a64_anos_feminino/len(vacinacao_se_com_filtro))*100, (qntd_vacinados_65a69_anos_feminino/len(vacinacao_se_com_filtro))*100, (qntd_vacinados_70a74_anos_feminino/len(vacinacao_se_com_filtro))*100, (qntd_vacinados_75a79_anos_feminino/len(vacinacao_se_com_filtro))*100, (qntd_vacinados_80_mais_anos_feminino/len(vacinacao_se_com_filtro))*100]\n",
        "percentual_qntd_vacinados_faixa_etaria_feminino = 100 - sum(percentual_qntd_vacinados_faixa_etaria_feminino)\n",
        "print(f\"PERCENTUAL DE VACINADOS QUE NÃO TOMARAM VACINA POR FAIXA ETÁRIA: {percentual_qntd_vacinados_faixa_etaria_feminino:.2f}%\")"
      ],
      "metadata": {
        "id": "BiO15BMiMJ-b"
      },
      "execution_count": null,
      "outputs": []
    },
    {
      "cell_type": "code",
      "source": [
        "#Dados referente a doses de vacinação\n",
        "dados_doses = vacinacao_se_com_filtro.vacina_descricao_dose.value_counts()\n",
        "dados_doses_normalizado = vacinacao_se_com_filtro.vacina_descricao_dose.value_counts(normalize=True)\n",
        "\n",
        "print(f\"Quantidade de doses de vacina:\\n{dados_doses}\")\n",
        "print(\"\")\n",
        "print(f\"Quantidade de doses de vacina (percentual):\\n{dados_doses_normalizado}\")"
      ],
      "metadata": {
        "id": "NqQc5hD5OdRC"
      },
      "execution_count": null,
      "outputs": []
    },
    {
      "cell_type": "code",
      "source": [
        "#Dados referente a fabricantes das vacinas\n",
        "dados_vacina_fabricante = vacinacao_se_com_filtro.vacina_nome.value_counts()\n",
        "dados_vacina_fabricante_normalizado = vacinacao_se_com_filtro.vacina_nome.value_counts(normalize=True)\n",
        "\n",
        "print(f\"Quantidade de vacinados por fabricante:\\n{dados_vacina_fabricante}\")\n",
        "print(\"\")\n",
        "print(f\"Quantidade de vacinados por fabricante (percentual):\\n{dados_vacina_fabricante_normalizado}\")"
      ],
      "metadata": {
        "id": "gpW7BzRqSc0f"
      },
      "execution_count": null,
      "outputs": []
    },
    {
      "cell_type": "code",
      "source": [
        "#Dados referente a data de vacinacao\n",
        "dados_vacina_data = vacinacao_se_com_filtro.vacina_dataAplicacao.value_counts()\n",
        "dados_vacina_data_normalizado = vacinacao_se_com_filtro.vacina_dataAplicacao.value_counts(normalize=True)\n",
        "\n",
        "print(f\"Quantidade de vacinados por dia:\\n{dados_vacina_data}\")\n",
        "print(\"\")\n",
        "print(f\"Quantidade de vacinados por dia (percentual):\\n{dados_vacina_data_normalizado}\")"
      ],
      "metadata": {
        "id": "9LvwMpCJTr8w",
        "colab": {
          "base_uri": "https://localhost:8080/",
          "height": 235
        },
        "outputId": "929088da-99fd-486a-c570-b9319d39e7f5"
      },
      "execution_count": null,
      "outputs": [
        {
          "output_type": "error",
          "ename": "NameError",
          "evalue": "ignored",
          "traceback": [
            "\u001b[0;31m---------------------------------------------------------------------------\u001b[0m",
            "\u001b[0;31mNameError\u001b[0m                                 Traceback (most recent call last)",
            "\u001b[0;32m<ipython-input-1-be8af051b14b>\u001b[0m in \u001b[0;36m<cell line: 2>\u001b[0;34m()\u001b[0m\n\u001b[1;32m      1\u001b[0m \u001b[0;31m#Dados referente a data de vacinacao\u001b[0m\u001b[0;34m\u001b[0m\u001b[0;34m\u001b[0m\u001b[0m\n\u001b[0;32m----> 2\u001b[0;31m \u001b[0mdados_vacina_data\u001b[0m \u001b[0;34m=\u001b[0m \u001b[0mvacinacao_se_com_filtro\u001b[0m\u001b[0;34m.\u001b[0m\u001b[0mvacina_dataAplicacao\u001b[0m\u001b[0;34m.\u001b[0m\u001b[0mvalue_counts\u001b[0m\u001b[0;34m(\u001b[0m\u001b[0;34m)\u001b[0m\u001b[0;34m\u001b[0m\u001b[0;34m\u001b[0m\u001b[0m\n\u001b[0m\u001b[1;32m      3\u001b[0m \u001b[0mdados_vacina_data_normalizado\u001b[0m \u001b[0;34m=\u001b[0m \u001b[0mvacinacao_se_com_filtro\u001b[0m\u001b[0;34m.\u001b[0m\u001b[0mvacina_dataAplicacao\u001b[0m\u001b[0;34m.\u001b[0m\u001b[0mvalue_counts\u001b[0m\u001b[0;34m(\u001b[0m\u001b[0mnormalize\u001b[0m\u001b[0;34m=\u001b[0m\u001b[0;32mTrue\u001b[0m\u001b[0;34m)\u001b[0m\u001b[0;34m\u001b[0m\u001b[0;34m\u001b[0m\u001b[0m\n\u001b[1;32m      4\u001b[0m \u001b[0;34m\u001b[0m\u001b[0m\n\u001b[1;32m      5\u001b[0m \u001b[0mprint\u001b[0m\u001b[0;34m(\u001b[0m\u001b[0;34mf\"Quantidade de vacinados por dia:\\n{dados_vacina_data}\"\u001b[0m\u001b[0;34m)\u001b[0m\u001b[0;34m\u001b[0m\u001b[0;34m\u001b[0m\u001b[0m\n",
            "\u001b[0;31mNameError\u001b[0m: name 'vacinacao_se_com_filtro' is not defined"
          ]
        }
      ]
    },
    {
      "cell_type": "code",
      "source": [
        "#Quantidade de vacinas por dose\n",
        "qntd_vacinados_por_dose = vacinacao_se_com_filtro.groupby(['vacina_nome', 'vacina_descricao_dose']).size().reset_index(name='count')\n",
        "\n",
        "qntd_vacinados_por_dose"
      ],
      "metadata": {
        "id": "BEBKRPttUtcF"
      },
      "execution_count": null,
      "outputs": []
    },
    {
      "cell_type": "code",
      "source": [
        "#Quantidade de vacinações por mês/ano\n",
        "vacinacao_se_com_filtro['vacina_dataAplicacao'] = pd.to_datetime(vacinacao_se_com_filtro['vacina_dataAplicacao'], format='%Y/%m/%d')\n",
        "vacinacao_se_com_filtro['mes'] = vacinacao_se_com_filtro['vacina_dataAplicacao'].dt.month\n",
        "vacinacao_se_com_filtro['ano'] = vacinacao_se_com_filtro['vacina_dataAplicacao'].dt.year\n",
        "\n",
        "dados_2a_dose = vacinacao_se_com_filtro[vacinacao_se_com_filtro['vacina_descricao_dose'] == '1ª Dose']\n",
        "dados_1a_dose = vacinacao_se_com_filtro[vacinacao_se_com_filtro['vacina_descricao_dose'] == '2ª Dose']\n",
        "dados_3a_dose = vacinacao_se_com_filtro[vacinacao_se_com_filtro['vacina_descricao_dose'] == '3ª Dose']\n",
        "dados_4a_dose = vacinacao_se_com_filtro[vacinacao_se_com_filtro['vacina_descricao_dose'] == '4ª Dose']\n",
        "\n",
        "qntd_vacinacao_mes_ano_1a_dose = dados_1a_dose.groupby(['ano', 'mes']).size().reset_index(name='count')\n",
        "qntd_vacinacao_mes_ano_2a_dose = dados_2a_dose.groupby(['ano', 'mes']).size().reset_index(name='count')\n",
        "qntd_vacinacao_mes_ano_3a_dose = dados_3a_dose.groupby(['ano', 'mes']).size().reset_index(name='count')\n",
        "qntd_vacinacao_mes_ano_4a_dose = dados_4a_dose.groupby(['ano', 'mes']).size().reset_index(name='count')\n",
        "\n",
        "print(qntd_vacinacao_mes_ano_1a_dose)\n",
        "\n",
        "print(qntd_vacinacao_mes_ano_2a_dose)\n",
        "\n",
        "print(qntd_vacinacao_mes_ano_3a_dose)\n",
        "\n",
        "print(qntd_vacinacao_mes_ano_4a_dose)\n",
        "\n",
        "\n",
        "dados = {\n",
        "    '1ª Dose': qntd_vacinacao_mes_ano_1a_dose,\n",
        "    '2ª Dose': qntd_vacinacao_mes_ano_2a_dose,\n",
        "    '3ª Dose': qntd_vacinacao_mes_ano_3a_dose,\n",
        "    '4ª Dose': qntd_vacinacao_mes_ano_4a_dose\n",
        "}\n",
        "\n",
        "# Criar um objeto ExcelWriter\n",
        "writer = pd.ExcelWriter('dados_vacinacao.xlsx')\n",
        "\n",
        "# Iterar sobre o dicionário e salvar cada DataFrame em uma planilha separada\n",
        "for dose, df in dados.items():\n",
        "    df.to_excel(writer, sheet_name=dose, index=False)\n",
        "\n",
        "# Fechar o escritor do Excel\n",
        "writer.save()\n"
      ],
      "metadata": {
        "id": "dMskA0rsXea8"
      },
      "execution_count": null,
      "outputs": []
    },
    {
      "cell_type": "code",
      "source": [
        "#Adicionando dados na coluna bairros com base nas US.\n",
        "\n",
        "mapeamento_us = {\n",
        "    'HOSPITAL GOVERNADOR JOAO ALVES FILHO' : 'Capucho',\n",
        "    'SECRETARIA MUNICIPAL DE SAUDE DE ARACAJU SEDE' : 'Coroa do Meio',\n",
        "    'US ADEL NUNES BAIRRO AMERICA' : 'América',\n",
        "    'US AMELIA LEITE' : 'Suíssa',\n",
        "    'US ANALIA PINA DE ASSIS ALM TAMANDARE' : 'Santos Dumont',\n",
        "    'US ANTONIO ALVES ATALAIA' : 'Atalaia',\n",
        "    'US AUGUSTO CESAR LEITE SANTA TEREZA' : 'Aeroporto',\n",
        "    'US AUGUSTO FRANCO' : 'Farolândia',\n",
        "    'US AVILA NABUCO MEDICI' : 'Luzia',\n",
        "    'US CANDIDA ALVES SANTO ANTONIO' : 'Santo Antonio',\n",
        "    'US CARLOS FERNANDES DE MELO LAMARAO' : 'Lamarao',\n",
        "    'US CARLOS HARDMAN CORTES SOLEDADE' : 'Soledade',\n",
        "    'US CELSO DANIEL SANTA MARIA' : 'Santa Maria',\n",
        "    'US DONA JOVEM AZEVEDO INDUSTRIAL' : 'Industrial',\n",
        "    'US DONA SINHAZINHA GRAGERU' : 'Grageru',\n",
        "    'US DR JOSE CALUMBY FILHO' : 'Jardim Centenario',\n",
        "    'US DR ROBERTO PAIXAO' : '17 de Marco',\n",
        "    'US EDEZIO VIEIRA DE MELO SIQUEIRA CAMPOS' : 'Siqueira Campos',\n",
        "    'US ELIZABETE PITA TERRA DURA' : 'Terra Dura',\n",
        "    'US EUNICE BARBOSA DE OLIVEIRA' : 'Coqueiral',\n",
        "    'US FERNANDO SAMPAIO CASTELO BRANCO' : 'Ponto Novo',\n",
        "    'US FRANCISCO FONSECA DEZOITO DO FORTE' : '18 do Forte',\n",
        "    'US GERALDO MAGELA DE MENEZES SAO CONRADO' : 'São Conrado',\n",
        "    'US HUGO GURGEL COROA DO MEIO' : 'Coroa do Meio',\n",
        "    'US HUMBERTO MOURAO GUIMARAES SAO CONRADO' : 'São Conrado',\n",
        "    'US JOALDO BARBOSA' : 'América',\n",
        "    'US JOAO BEZERRA AREIA BRANCA' : 'Areia Branca',\n",
        "    'US JOAO CARDOSO NASCIMENTO JUNIOR JOSE CONRADO DE ARAUJO' : 'José Conrado de Araújo',\n",
        "    'US JOAO DE OLIVEIRA SOBRAL SANTOS DUMONT' : 'Santos Dumont',\n",
        "    'US JOSE AUGUSTO BARRETO JAPAOZINHO' : 'Japaozinho',\n",
        "    'US JOSE MACHADO DE SOUZA SANTOS DUMONT' : 'Santos Dumont',\n",
        "    'US JOSE QUINTILIANO DA FONSECA SOBRAL CIDADE NOVA' : 'Cidade Nova',\n",
        "    'US LAURO DANTAS HORA BUGIO' : 'Bugio',\n",
        "    'US MADRE TEREZA DE CALCUTA JABOTIANA' : 'Jabotiana',\n",
        "    'US MANOEL DE SOUZA PEREIRA SOL NASCENTE' : 'Jabotiana',\n",
        "    'US MARIA DO CEU SANTOS PEREIRA' : 'Centro',\n",
        "    'US MAX DE CARVALHO ROCHA LUZIA' : 'Luzia',\n",
        "    'US MINISTRO COSTA CAVALVANTE INACIO BARBOSA' : 'Inácio Barbosa',\n",
        "    'US NICEU DANTAS MOSQUEIRO' : 'Mosqueiro',\n",
        "    'US ONESIMO PINTO FILHO JARDIM CENTENARIO' : 'Jardim Centenario',\n",
        "    'US OSVALDO LEITE TERRA DURA' : 'Santa Maria',\n",
        "    'US OSWALDO DE SOUZA' : 'Getúlio Vargas',\n",
        "    'US PORTO DANTAS' : 'Porto Dantas',\n",
        "    'US SANTA TEREZINHA ROBALO' : 'Santos Dumont',\n",
        "    'SECRETARIA MUNICIPAL DE SAUDE DE ARACAJU SEDE' : 'Robalo',\n",
        "    'US WALTER CARDOSO VENEZA' : 'Veneza',\n",
        "    'US RENATO MAZZE LUCAS LAMARAO' : 'Santos Dumont',\n",
        "}\n",
        "\n",
        "vacinacao_se_com_filtro['estabelecimento_bairro_nome'] = vacinacao_se_com_filtro['estalecimento_noFantasia'].map(mapeamento_us)"
      ],
      "metadata": {
        "id": "OHoKI0H3n8V_"
      },
      "execution_count": null,
      "outputs": []
    },
    {
      "cell_type": "code",
      "source": [
        "# Salvando o novo arquivo CSV com os dados filtrados FINAL\n",
        "vacinacao_se_com_filtro.to_csv('/content/drive/MyDrive/Colab Notebooks/VACINAÇÃO ARACAJU FILTRADO FINAL 2.csv', index=False)"
      ],
      "metadata": {
        "id": "5RNiwYHzy0e3"
      },
      "execution_count": null,
      "outputs": []
    },
    {
      "cell_type": "code",
      "source": [
        "#Vacinação por bairro\n",
        "vacinacao_por_bairro = vacinacao_se_com_filtro['estabelecimento_bairro_nome'].value_counts()\n",
        "vacinacao_por_bairro_normalizado = vacinacao_se_com_filtro['estabelecimento_bairro_nome'].value_counts(normalize=True)\n",
        "\n",
        "print(f\"Quantidade de vacinações por bairro:\\n{vacinacao_por_bairro}\")\n",
        "print(\"\")\n",
        "print(f\"Quantidade de vacinações por bairro (percentual):\\n{vacinacao_por_bairro_normalizado}\")"
      ],
      "metadata": {
        "id": "dO5x3eoB1gI3"
      },
      "execution_count": null,
      "outputs": []
    },
    {
      "cell_type": "code",
      "source": [
        "#Vacinação por bairro e US\n",
        "vacinacao_por_bairro_e_us = vacinacao_se_com_filtro.groupby(['estalecimento_noFantasia', 'estabelecimento_bairro_nome']).size().reset_index(name='count')\n",
        "vacinacao_por_bairro_e_us = vacinacao_por_bairro_e_us.sort_values(by='count', ascending=False)\n",
        "vacinacao_por_bairro_e_us"
      ],
      "metadata": {
        "id": "NQpcsjDn3wrN"
      },
      "execution_count": null,
      "outputs": []
    },
    {
      "cell_type": "code",
      "source": [
        "#Dados referente a locomoção do paciente\n",
        "\n",
        "# Consulta para obter a contagem de vacinados por município\n",
        "dados_paciente_municipio = vacinacao_se_com_filtro[\"paciente_endereco_nmMunicipio\"].value_counts()\n",
        "\n",
        "# Obter a contagem de pacientes Aracajuanos vacinados\n",
        "vacinados_aracaju = dados_paciente_municipio.get(\"ARACAJU\", 0)\n",
        "\n",
        "# Obter a contagem total de vacinados de outras cidades\n",
        "vacinados_outras_cidades = dados_paciente_municipio.sum() - vacinados_aracaju\n",
        "\n",
        "# Calcular os percentuais\n",
        "percentual_aracaju = (vacinados_aracaju / dados_paciente_municipio.sum()) * 100\n",
        "percentual_outras_cidades = (vacinados_outras_cidades / dados_paciente_municipio.sum()) * 100\n",
        "\n",
        "# Criar um novo DataFrame com os resultados\n",
        "dados_locomocao_vacinacao = pd.DataFrame({\"Quantidade de vacinados por município do paciente (locomoção)\": [vacinados_aracaju, vacinados_outras_cidades],\n",
        "                               \"Percentual\": [percentual_aracaju, percentual_outras_cidades]},\n",
        "                              index=[\"ARACAJU\", \"OUTRAS CIDADES\"])\n",
        "\n",
        "# Exibir os resultados\n",
        "print(dados_locomocao_vacinacao)"
      ],
      "metadata": {
        "id": "LAMUkNn-rDGu"
      },
      "execution_count": null,
      "outputs": []
    }
  ]
}