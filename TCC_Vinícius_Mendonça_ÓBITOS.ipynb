{
  "nbformat": 4,
  "nbformat_minor": 0,
  "metadata": {
    "colab": {
      "provenance": [],
      "authorship_tag": "ABX9TyN4YeBjiWOvuW6c0T0VJujP",
      "include_colab_link": true
    },
    "kernelspec": {
      "name": "python3",
      "display_name": "Python 3"
    },
    "language_info": {
      "name": "python"
    }
  },
  "cells": [
    {
      "cell_type": "markdown",
      "metadata": {
        "id": "view-in-github",
        "colab_type": "text"
      },
      "source": [
        "<a href=\"https://colab.research.google.com/github/viniciusmendonca95/tcc_vacinacao/blob/main/TCC_Vin%C3%ADcius_Mendon%C3%A7a_%C3%93BITOS.ipynb\" target=\"_parent\"><img src=\"https://colab.research.google.com/assets/colab-badge.svg\" alt=\"Open In Colab\"/></a>"
      ]
    },
    {
      "cell_type": "markdown",
      "source": [
        "## Trabalho de Conclusão de Curso - Ciências da Computação\n",
        "\n",
        "**Aluno:** Vinícius José Santana de Mendonça\n",
        " \n",
        "**Orientador:** Adolfo Guimarães Pinto"
      ],
      "metadata": {
        "id": "XfSEalf_TfaC"
      }
    },
    {
      "cell_type": "markdown",
      "source": [
        "#IMPORTS"
      ],
      "metadata": {
        "id": "Qvi5eCDiTkmP"
      }
    },
    {
      "cell_type": "code",
      "execution_count": null,
      "metadata": {
        "id": "U18yWZjXGUOq"
      },
      "outputs": [],
      "source": [
        "#IMPORTS\n",
        "import pandas as pd\n",
        "from google.colab import drive\n",
        "from google.colab import files\n",
        "import seaborn as sns\n",
        "import numpy as np"
      ]
    },
    {
      "cell_type": "code",
      "source": [
        "sns.set()"
      ],
      "metadata": {
        "id": "1h66nC11TkTa"
      },
      "execution_count": null,
      "outputs": []
    },
    {
      "cell_type": "code",
      "source": [
        "#MONTAR O DRIVE PARA IMPORT DOS DATA FRAMES\n",
        "drive.mount('/content/drive')"
      ],
      "metadata": {
        "id": "XINTHJ1aTpw5"
      },
      "execution_count": null,
      "outputs": []
    },
    {
      "cell_type": "code",
      "source": [
        "#IMPORT DATA FRAMES FINAL\n",
        "srag_final = pd.read_csv('/content/drive/MyDrive/Colab Notebooks/SRAG FILTRADO FINAL.csv')"
      ],
      "metadata": {
        "id": "F4h_YR-ATse-"
      },
      "execution_count": null,
      "outputs": []
    },
    {
      "cell_type": "code",
      "source": [
        "#IMPORT DATA FRAMES\n",
        "srag_2020 = pd.read_csv('/content/drive/MyDrive/Colab Notebooks/INFLUD20-24-04-2023.csv', sep=';')\n",
        "srag_2021 = pd.read_csv('/content/drive/MyDrive/Colab Notebooks/INFLUD21-24-04-2023.csv', sep=';')\n",
        "srag_2022 = pd.read_csv('/content/drive/MyDrive/Colab Notebooks/INFLUD22-03-04-2023.csv', sep=';')\n",
        "srag_2023 = pd.read_csv('/content/drive/MyDrive/Colab Notebooks/INFLUD23-03-04-2023.csv', sep=';')\n",
        "\n",
        "#Removendo colunas desnecessárias\n",
        "srag_2020 = srag_2020.drop(srag_2020.columns.difference([\"DT_NOTIFIC\", \"SG_UF_NOT\", \"ID_UNIDADE\", \"CS_SEXO\", \"NU_IDADE_N\", \"CS_RACA\", \"CS_ESCOL_N\", \"SG_UF\", \"ID_MN_RESI\", \"HOSPITAL\", \"DT_INTERNA\", \"ID_MN_INTE\", \"UTI\", \"CLASSI_FIN\", \"EVOLUCAO\", \"DT_EVOLUCA\"]), axis=1)\n",
        "srag_2021 = srag_2021.drop(srag_2021.columns.difference([\"DT_NOTIFIC\", \"SG_UF_NOT\", \"ID_UNIDADE\", \"CS_SEXO\", \"NU_IDADE_N\", \"CS_RACA\", \"CS_ESCOL_N\", \"SG_UF\", \"ID_MN_RESI\", \"HOSPITAL\", \"DT_INTERNA\", \"ID_MN_INTE\", \"UTI\", \"CLASSI_FIN\", \"EVOLUCAO\", \"DT_EVOLUCA\", \"VACINA_COV\", \"DOSE_1_COV\", \"DOSE_2_COV\", \"DOSE_REF\", \"FAB_COV_1\", \"FAB_COV_2\", \"FAB_COVREF\"]), axis=1)\n",
        "srag_2022 = srag_2022.drop(srag_2022.columns.difference([\"DT_NOTIFIC\", \"SG_UF_NOT\", \"ID_UNIDADE\", \"CS_SEXO\", \"NU_IDADE_N\", \"CS_RACA\", \"CS_ESCOL_N\", \"SG_UF\", \"ID_MN_RESI\", \"HOSPITAL\", \"DT_INTERNA\", \"ID_MN_INTE\", \"UTI\", \"CLASSI_FIN\", \"EVOLUCAO\", \"DT_EVOLUCA\", \"VACINA_COV\", \"DOSE_1_COV\", \"DOSE_2_COV\", \"DOSE_REF\", \"FAB_COV_1\", \"FAB_COV_2\", \"FAB_COVREF\", \"DOSE_2REF\", \"FAB_COVRF2\"]), axis=1)\n",
        "srag_2023 = srag_2023.drop(srag_2023.columns.difference([\"DT_NOTIFIC\", \"SG_UF_NOT\", \"ID_UNIDADE\", \"CS_SEXO\", \"NU_IDADE_N\", \"CS_RACA\", \"CS_ESCOL_N\", \"SG_UF\", \"ID_MN_RESI\", \"HOSPITAL\", \"DT_INTERNA\", \"ID_MN_INTE\", \"UTI\", \"CLASSI_FIN\", \"EVOLUCAO\", \"DT_EVOLUCA\", \"VACINA_COV\", \"DOSE_1_COV\", \"DOSE_2_COV\", \"DOSE_REF\", \"FAB_COV_1\", \"FAB_COV_2\", \"FAB_COVREF\", \"DOSE_2REF\", \"FAB_COVRF2\"]), axis=1)"
      ],
      "metadata": {
        "id": "f1vpA38WTxsI"
      },
      "execution_count": null,
      "outputs": []
    },
    {
      "cell_type": "code",
      "source": [
        "#Junção dos dataframes\n",
        "dataframes_srag = [srag_2020, srag_2021, srag_2022, srag_2023]\n",
        "\n",
        "# Concatenação  dos dataframes em uma única estrutura de dados\n",
        "srag_sem_filtro = pd.concat(dataframes_srag, ignore_index=True)\n",
        "\n",
        "#Salvando o dataframe contatenado em uma única linha\n",
        "srag_sem_filtro.to_csv('/content/drive/MyDrive/Colab Notebooks/SRAG SEM FILTRO.csv', index=False)"
      ],
      "metadata": {
        "id": "ix--QkK-T50F"
      },
      "execution_count": null,
      "outputs": []
    },
    {
      "cell_type": "markdown",
      "source": [
        "#FILTRANDO DADOS DE ARACAJU"
      ],
      "metadata": {
        "id": "Z45CNrFKYMy4"
      }
    },
    {
      "cell_type": "code",
      "source": [
        "# Filtrando os dados por ARACAJU\n",
        "filtro_aracaju = srag_sem_filtro['ID_MN_INTE'] == 'ARACAJU'\n",
        "srag_com_filtro = srag_sem_filtro[filtro_aracaju]"
      ],
      "metadata": {
        "id": "8qqsSO6Im3XR"
      },
      "execution_count": null,
      "outputs": []
    },
    {
      "cell_type": "code",
      "source": [
        "# Excluindo as linhas que não estão no filtro\n",
        "srag_com_filtro.drop(srag_com_filtro[~filtro_aracaju].index, inplace=True)"
      ],
      "metadata": {
        "id": "Dweawt_6nDsm"
      },
      "execution_count": null,
      "outputs": []
    },
    {
      "cell_type": "code",
      "source": [
        "# Salvando o novo arquivo CSV com os dados filtrados\n",
        "srag_com_filtro.to_csv('/content/drive/MyDrive/Colab Notebooks/SRAG ARACAJU FILTRADO.csv', index=False)"
      ],
      "metadata": {
        "id": "rxx6TWBqnLqo"
      },
      "execution_count": null,
      "outputs": []
    },
    {
      "cell_type": "markdown",
      "source": [
        "#FILTRANDO DADOS EM GERAL\n"
      ],
      "metadata": {
        "id": "vY4IoRNHK_Zg"
      }
    },
    {
      "cell_type": "code",
      "source": [
        "# Verificando filtro de ARACAJU\n",
        "srag_com_filtro"
      ],
      "metadata": {
        "id": "ICR8DoXrnZVm"
      },
      "execution_count": null,
      "outputs": []
    },
    {
      "cell_type": "code",
      "source": [
        "#Verificar linhas duplicadas\n",
        "srag_com_filtro.drop_duplicates(inplace=True)"
      ],
      "metadata": {
        "id": "4y1PUEYuN-C2"
      },
      "execution_count": null,
      "outputs": []
    },
    {
      "cell_type": "code",
      "source": [
        "#Ajustando dados PT 1\n",
        "srag_com_filtro.rename(columns={'SG_UF_NOT': 'UF_UNIDADE_SAUDE', 'ID_UNIDADE': 'NOME_UNIDADE_SAUDE', 'NU_IDADE_N': 'IDADE_PACIENTE', 'CS_RACA': 'RACA_PACIENTE', 'CS_ESCOL_N': 'ESCOLARIDADE_PACIENTE', 'SG_UF': 'UF_PACIENTE', 'ID_MN_RESI': 'MUNICIPIO_PACIENTE', 'HOSPITAL': 'HOUVE_INTERNACAO', 'ID_MN_INTE': 'MUNICIPIO_UNIDADE_SAUDE', 'UTI': 'INTERNADO_EM_UTI', 'VACINA_COV' : 'RECEBEU_VACINA_COVID'}, inplace = True)\n",
        "\n",
        "#Removendo colunas desnecessárias\n",
        "srag_com_filtro.drop(columns=['DOSE_1_COV', 'DOSE_2_COV', 'DOSE_REF', 'FAB_COV_1', 'FAB_COV_2', 'FAB_COVREF', 'DOSE_2REF', 'FAB_COVRF2'], inplace=True)"
      ],
      "metadata": {
        "id": "WFtgdPLtONKh"
      },
      "execution_count": null,
      "outputs": []
    },
    {
      "cell_type": "code",
      "source": [
        "#Removendo idades de paciente > 100\n",
        "srag_com_filtro = srag_com_filtro.drop(srag_com_filtro.loc[srag_com_filtro['IDADE_PACIENTE'] > 100].index)"
      ],
      "metadata": {
        "id": "nynoCV4TaD_M"
      },
      "execution_count": null,
      "outputs": []
    },
    {
      "cell_type": "code",
      "source": [
        "#Ajustando dados PT 2\n",
        "\n",
        "#Ajustes em todas as colunas\n",
        "srag_com_filtro['CS_SEXO'] = srag_com_filtro['CS_SEXO'].replace('I', 'SEM INFORMACAO')\n",
        "\n",
        "\n",
        "srag_com_filtro['RACA_PACIENTE'] = srag_com_filtro['RACA_PACIENTE'].fillna('SEM INFORMACAO')\n",
        "srag_com_filtro['RACA_PACIENTE'] = srag_com_filtro['RACA_PACIENTE'].replace(1, 'BRANCA')\n",
        "srag_com_filtro['RACA_PACIENTE'] = srag_com_filtro['RACA_PACIENTE'].replace(2, 'PRETA')\n",
        "srag_com_filtro['RACA_PACIENTE'] = srag_com_filtro['RACA_PACIENTE'].replace(3, 'AMARELA')\n",
        "srag_com_filtro['RACA_PACIENTE'] = srag_com_filtro['RACA_PACIENTE'].replace(4, 'PARDA')\n",
        "srag_com_filtro['RACA_PACIENTE'] = srag_com_filtro['RACA_PACIENTE'].replace(5, 'INDIGENA')\n",
        "srag_com_filtro['RACA_PACIENTE'] = srag_com_filtro['RACA_PACIENTE'].replace(9, 'SEM INFORMACAO')\n",
        "\n",
        "srag_com_filtro['ESCOLARIDADE_PACIENTE'] = srag_com_filtro['ESCOLARIDADE_PACIENTE'].fillna('SEM INFORMACAO')\n",
        "srag_com_filtro['ESCOLARIDADE_PACIENTE'] = srag_com_filtro['ESCOLARIDADE_PACIENTE'].replace(0, 'ANALFABETO')\n",
        "srag_com_filtro['ESCOLARIDADE_PACIENTE'] = srag_com_filtro['ESCOLARIDADE_PACIENTE'].replace(1, 'FUNDAMENTAL 1 (1 A 5 SERIE)')\n",
        "srag_com_filtro['ESCOLARIDADE_PACIENTE'] = srag_com_filtro['ESCOLARIDADE_PACIENTE'].replace(2, 'FUNDAMENTAL 2 (6 A 9 SERIE)')\n",
        "srag_com_filtro['ESCOLARIDADE_PACIENTE'] = srag_com_filtro['ESCOLARIDADE_PACIENTE'].replace(3, 'ENSINO MÉDIO')\n",
        "srag_com_filtro['ESCOLARIDADE_PACIENTE'] = srag_com_filtro['ESCOLARIDADE_PACIENTE'].replace(4, 'ENSINO SUPERIOR')\n",
        "srag_com_filtro['ESCOLARIDADE_PACIENTE'] = srag_com_filtro['ESCOLARIDADE_PACIENTE'].replace(5, 'NÃO SE APLICA (IDADE < 7 ANOS)')\n",
        "srag_com_filtro['ESCOLARIDADE_PACIENTE'] = srag_com_filtro['ESCOLARIDADE_PACIENTE'].replace(9, 'SEM INFORMACAO')\n",
        "\n",
        "srag_com_filtro['HOUVE_INTERNACAO'] = srag_com_filtro['HOUVE_INTERNACAO'].replace(1, 'SIM')\n",
        "srag_com_filtro['HOUVE_INTERNACAO'] = srag_com_filtro['HOUVE_INTERNACAO'].replace(2, 'NAO')\n",
        "srag_com_filtro['HOUVE_INTERNACAO'] = srag_com_filtro['HOUVE_INTERNACAO'].replace(9, 'SEM INFORMACAO')\n",
        "\n",
        "srag_com_filtro['UF_PACIENTE'] = srag_com_filtro['UF_PACIENTE'].fillna('SEM INFORMACAO')\n",
        "\n",
        "srag_com_filtro['DT_INTERNA'] = srag_com_filtro['DT_INTERNA'].fillna('SEM INFORMACAO')\n",
        "srag_com_filtro['DT_INTERNA'] = srag_com_filtro['DT_INTERNA'].replace('29/03/2019', '03/08/2020')\n",
        "srag_com_filtro['DT_INTERNA'] = srag_com_filtro['DT_INTERNA'].replace('29/06/2102', '29/06/2020')\n",
        "srag_com_filtro['DT_INTERNA'] = srag_com_filtro['DT_INTERNA'].replace('11/05/8202', '11/05/2021')\n",
        "\n",
        "srag_com_filtro['MUNICIPIO_PACIENTE'] = srag_com_filtro['MUNICIPIO_PACIENTE'].fillna('SEM INFORMACAO')\n",
        "\n",
        "srag_com_filtro['INTERNADO_EM_UTI'] = srag_com_filtro['INTERNADO_EM_UTI'].fillna('SEM INFORMACAO')\n",
        "srag_com_filtro['INTERNADO_EM_UTI'] = srag_com_filtro['INTERNADO_EM_UTI'].replace(1, 'SIM')\n",
        "srag_com_filtro['INTERNADO_EM_UTI'] = srag_com_filtro['INTERNADO_EM_UTI'].replace(2, 'NAO')\n",
        "srag_com_filtro['INTERNADO_EM_UTI'] = srag_com_filtro['INTERNADO_EM_UTI'].replace(9, 'SEM INFORMACAO')\n",
        "\n",
        "srag_com_filtro['CLASSI_FIN'] = srag_com_filtro['CLASSI_FIN'].fillna('SEM INFORMACAO')\n",
        "srag_com_filtro['CLASSI_FIN'] = srag_com_filtro['CLASSI_FIN'].replace(1, 'INFLUENZA')\n",
        "srag_com_filtro['CLASSI_FIN'] = srag_com_filtro['CLASSI_FIN'].replace(2, 'VIRUS RESPIRATORIO')\n",
        "srag_com_filtro['CLASSI_FIN'] = srag_com_filtro['CLASSI_FIN'].replace(3, 'AGENTE ETIOLOGICO')\n",
        "srag_com_filtro['CLASSI_FIN'] = srag_com_filtro['CLASSI_FIN'].replace(4, 'SRAG NAO ESPECIFICADO')\n",
        "srag_com_filtro['CLASSI_FIN'] = srag_com_filtro['CLASSI_FIN'].replace(5, 'COVID-19')\n",
        "\n",
        "srag_com_filtro['EVOLUCAO'] = srag_com_filtro['EVOLUCAO'].fillna('SEM INFORMACAO')\n",
        "srag_com_filtro['EVOLUCAO'] = srag_com_filtro['EVOLUCAO'].replace(1, 'CURA')\n",
        "srag_com_filtro['EVOLUCAO'] = srag_com_filtro['EVOLUCAO'].replace(2, 'OBITO')\n",
        "srag_com_filtro['EVOLUCAO'] = srag_com_filtro['EVOLUCAO'].replace(3, 'OBITO POR OUTRAS CAUSAS')\n",
        "srag_com_filtro['EVOLUCAO'] = srag_com_filtro['EVOLUCAO'].replace(9, 'SEM INFORMACAO')\n",
        "\n",
        "srag_com_filtro['DT_EVOLUCA'] = srag_com_filtro['DT_EVOLUCA'].fillna('SEM INFORMACAO')\n",
        "\n",
        "srag_com_filtro['RECEBEU_VACINA_COVID'] = srag_com_filtro['RECEBEU_VACINA_COVID'].fillna('SEM INFORMACAO')\n",
        "srag_com_filtro['RECEBEU_VACINA_COVID'] = srag_com_filtro['RECEBEU_VACINA_COVID'].replace(1, 'SIM')\n",
        "srag_com_filtro['RECEBEU_VACINA_COVID'] = srag_com_filtro['RECEBEU_VACINA_COVID'].replace(2, 'NAO')\n",
        "srag_com_filtro['RECEBEU_VACINA_COVID'] = srag_com_filtro['RECEBEU_VACINA_COVID'].replace(9, 'SEM INFORMACAO')\n"
      ],
      "metadata": {
        "id": "b4VjI__mQX9x"
      },
      "execution_count": null,
      "outputs": []
    },
    {
      "cell_type": "code",
      "source": [
        "# Filtrando os dados por COVID\n",
        "srag_final = srag_com_filtro.loc[srag_com_filtro['CLASSI_FIN'] == 'COVID-19']"
      ],
      "metadata": {
        "id": "y39V3te7bFNB"
      },
      "execution_count": null,
      "outputs": []
    },
    {
      "cell_type": "code",
      "source": [
        "#Removendo US que não são de Aracaju\n",
        "srag_final = srag_final.drop(srag_final.loc[srag_final['NOME_UNIDADE_SAUDE'] == 'CLINICA DE SAUDE DA FAMILIA NOSSA SENHORA DA PIEDADE'].index)\n",
        "srag_final = srag_final.drop(srag_final.loc[srag_final['NOME_UNIDADE_SAUDE'] == 'HOSPITAL DR PEDRO GARCIA MORENO'].index)\n",
        "srag_final = srag_final.drop(srag_final.loc[srag_final['NOME_UNIDADE_SAUDE'] == 'HOSPITAL NOSSA SENHORA DA CONCEICAO'].index)\n",
        "srag_final = srag_final.drop(srag_final.loc[srag_final['NOME_UNIDADE_SAUDE'] == 'HOSPITAL REGIONAL DE ESTANCIA JESSE FONTES'].index)\n",
        "srag_final = srag_final.drop(srag_final.loc[srag_final['NOME_UNIDADE_SAUDE'] == 'SECRETARIA MUN DE SAUDE DE JAPARATUBA'].index)\n",
        "srag_final = srag_final.drop(srag_final.loc[srag_final['NOME_UNIDADE_SAUDE'] == 'SECRETARIA MUNICIPAL DE SAUDE DE BARRA DOS COQUEIROS ANEXO 1'].index)\n",
        "srag_final = srag_final.drop(srag_final.loc[srag_final['NOME_UNIDADE_SAUDE'] == 'SECRETARIA MUNICIPAL DE SAUDE DE NOSSA SENHORA DO SOCORRO'].index)\n",
        "srag_final = srag_final.drop(srag_final.loc[srag_final['NOME_UNIDADE_SAUDE'] == 'SECRETARIA MUNICIPAL DE SAUDE DE PEDRINHAS'].index)\n",
        "srag_final = srag_final.drop(srag_final.loc[srag_final['NOME_UNIDADE_SAUDE'] == 'SECRETARIA MUNICIPAL DE SAUDE DE SAO CRISTOVAO'].index)\n",
        "srag_final = srag_final.drop(srag_final.loc[srag_final['NOME_UNIDADE_SAUDE'] == 'UNIDADE DE PRONTO ATENDIMENTO 24 H PEDRO VALADARES'].index)\n",
        "srag_final = srag_final.drop(srag_final.loc[srag_final['NOME_UNIDADE_SAUDE'] == 'UPA 24HS ANA LEOPOLDINA DOS SANTOS'].index)\n"
      ],
      "metadata": {
        "id": "B4Hv9tuMi2_H"
      },
      "execution_count": null,
      "outputs": []
    },
    {
      "cell_type": "code",
      "source": [
        "#Ajustando US com nomes iguais\n",
        "srag_final['NOME_UNIDADE_SAUDE'] = srag_final['NOME_UNIDADE_SAUDE'].replace('HOSPITAL REGIONAL GOV JOAO ALVES FILHO', 'HOSPITAL GOVERNADOR JOAO ALVES FILHO')\n",
        "srag_final['NOME_UNIDADE_SAUDE'] = srag_final['NOME_UNIDADE_SAUDE'].replace('RETAGUARDA HOSP FERNANDO FRANCO HUSE AJU', 'HOSPITAL MUNICIPAL ZONA SUL DES FERNANDO FRANCO')"
      ],
      "metadata": {
        "id": "Wp0IhA15kKJ3"
      },
      "execution_count": null,
      "outputs": []
    },
    {
      "cell_type": "code",
      "source": [
        "#Adicionando dados na coluna bairros com base nas US.\n",
        "\n",
        "mapeamento_us = {\n",
        "    'CENTRO MEDICO GABRIEL SOARES' : 'CENTRO',\n",
        "    'CLINICA RENASCENCA SA' : 'SALGADO FILHO',\n",
        "    'CLINICA SANTA HELENA SUISSA' : 'SUISSA',\n",
        "    'HOSPITAL DA CRIANCA DR JOSE MACHADO DE SOUZA' : 'JOSE CONRADO DE ARAUJO',\n",
        "    'HOSPITAL DA POLICIA MILITAR' : 'DEZOITO DO FORTE',\n",
        "    'HOSPITAL DE CIRURGIA' : 'CIRURGIA',\n",
        "    'HOSPITAL DO CORACAO' : 'SAO JOSE',\n",
        "    'HOSPITAL E MATERNIDADE SANTA IZABEL' : 'SANTO ANTONIO',\n",
        "    'HOSPITAL GOVERNADOR JOAO ALVES FILHO' : 'CAPUCHO',\n",
        "    'HOSPITAL MUNICIPAL ZONA NORTE DR NESTOR PIVA' : 'DEZOITO DO FORTE',\n",
        "    'HOSPITAL MUNICIPAL ZONA SUL DES FERNANDO FRANCO' : 'FAROLANDIA',\n",
        "    'HOSPITAL SAO JOSE' : 'SANTO ANTONIO',\n",
        "    'HOSPITAL SAO LUCAS' : 'SAO JOSE',\n",
        "    'HOSPITAL UNIVERSITARIO DE SERGIPE HUSE' : 'PALESTINA',\n",
        "    'IPESAUDE' : 'CIRURGIA',\n",
        "    'MATERNIDADE NOSSA SENHORA DE LOURDES' : 'AMERICA',\n",
        "    'PRONTO CLINICA SAO MARCOS PRONTO SOCORRO PARTICULAR' : 'SAO JOSE',\n",
        "    'REDE PRIMAVERA HOSPITAL PRIMAVERA' : 'JARDINS',\n",
        "    'SECRETARIA DE ESTADO DA SAUDE SEDE' : 'PONTO NOVO',\n",
        "    'SECRETARIA MUNICIPAL DE SAUDE DE ARACAJU SEDE' : 'COROA DO MEIO',\n",
        "    'UNIDADE DE TRATAMENTO RESPIRATORIO SANTA IZABEL AJU' : 'SANTO ANTONIO',\n",
        "   \n",
        "}\n",
        "\n",
        "srag_final['BAIRRO_UNIDADE_SAUDE'] = srag_final['NOME_UNIDADE_SAUDE'].map(mapeamento_us)"
      ],
      "metadata": {
        "id": "i12ivxWwkoXm"
      },
      "execution_count": null,
      "outputs": []
    },
    {
      "cell_type": "code",
      "source": [
        "#Visualizando o dataset final\n",
        "srag_final"
      ],
      "metadata": {
        "id": "NjqT0jcLbna0"
      },
      "execution_count": null,
      "outputs": []
    },
    {
      "cell_type": "code",
      "source": [
        "# Salvando o novo arquivo CSV com os dados filtrados FINAL\n",
        "srag_final.to_csv('/content/drive/MyDrive/Colab Notebooks/SRAG FILTRADO FINAL.csv', index=False)"
      ],
      "metadata": {
        "id": "v8E_7Nf5Xkvl"
      },
      "execution_count": null,
      "outputs": []
    },
    {
      "cell_type": "markdown",
      "source": [
        "#ANALISANDO DADOS"
      ],
      "metadata": {
        "id": "CcLYyKxvW_g7"
      }
    },
    {
      "cell_type": "code",
      "source": [
        "#Quantidade de atendimentos mapeados\n",
        "qntd_atendimentos = srag_final.shape[0]\n",
        "print(f\"Quantidade de atendimentos a COVID-19 registrados em Aracaju: {qntd_atendimentos}\")"
      ],
      "metadata": {
        "id": "rb1L3n4sW--X"
      },
      "execution_count": null,
      "outputs": []
    },
    {
      "cell_type": "code",
      "source": [
        "#Quantidade de registros (COVID) por mês/ano\n",
        "srag_final['DT_NOTIFIC'] = pd.to_datetime(srag_final['DT_NOTIFIC'], format='%d/%m/%Y')\n",
        "srag_final['mes'] = srag_final['DT_NOTIFIC'].dt.month\n",
        "srag_final['ano'] = srag_final['DT_NOTIFIC'].dt.year\n",
        "\n",
        "qntd_registro_mes_ano = srag_final.groupby(['ano', 'mes']).size().reset_index(name='count')\n",
        "\n",
        "qntd_registro_mes_ano"
      ],
      "metadata": {
        "id": "LBA0Txk7abOd"
      },
      "execution_count": null,
      "outputs": []
    },
    {
      "cell_type": "code",
      "source": [
        "#Dados referente a evolução dos casos\n",
        "dados_evolucao = srag_final.EVOLUCAO.value_counts()\n",
        "dados_evolucao_normalizado = srag_final.EVOLUCAO.value_counts(normalize=True)\n",
        "\n",
        "print(f\"Dados de evolução dos casos:\\n{dados_evolucao}\")\n",
        "print(\"\")\n",
        "print(f\"Dados de evolução dos casos (em percentual):\\n{dados_evolucao_normalizado}\")"
      ],
      "metadata": {
        "id": "WxNh8m7abPeT"
      },
      "execution_count": null,
      "outputs": []
    },
    {
      "cell_type": "code",
      "source": [
        "#Filtrando os dados de óbitos por COVID\n",
        "srag_final_obitos = srag_final.loc[srag_final['EVOLUCAO'] == 'OBITO']"
      ],
      "metadata": {
        "id": "bP01IDm0bEwD"
      },
      "execution_count": null,
      "outputs": []
    },
    {
      "cell_type": "code",
      "source": [
        "#Criação de média móvel de óbitos\n",
        "srag_final_obitos = srag_final_obitos.copy()  # Cria uma cópia do DataFrame original\n",
        "\n",
        "srag_final_obitos['DATA'] = srag_final_obitos['DT_NOTIFIC']\n",
        "srag_final_obitos['DT_NOTIFIC'] = pd.to_datetime(srag_final_obitos['DT_NOTIFIC'])\n",
        "\n",
        "# Extrair o dia, mês e ano em colunas separadas usando o método loc para atribuição\n",
        "srag_final_obitos.loc[:, 'dia'] = srag_final_obitos['DT_NOTIFIC'].dt.day.astype(int)\n",
        "srag_final_obitos.loc[:, 'mês'] = srag_final_obitos['DT_NOTIFIC'].dt.month.astype(int)\n",
        "srag_final_obitos.loc[:, 'ano'] = srag_final_obitos['DT_NOTIFIC'].dt.year.astype(int)\n",
        "\n",
        "qntd_registro_mes_ano_dia = srag_final_obitos.groupby(['dia', 'mês', 'ano', 'DATA']).size().reset_index(name='count')\n",
        "\n",
        "# Criar um DataFrame com todas as datas desejadas\n",
        "datas_todas = pd.DataFrame({'DATA': pd.date_range(start=qntd_registro_mes_ano_dia['DATA'].min(), end=qntd_registro_mes_ano_dia['DATA'].max(), freq='D')})\n",
        "\n",
        "# Fazer merge com o DataFrame original para incluir todas as datas\n",
        "qntd_registro_mes_ano_dia = datas_todas.merge(qntd_registro_mes_ano_dia, how='left', on='DATA')\n",
        "qntd_registro_mes_ano_dia['count'] = qntd_registro_mes_ano_dia['count'].fillna(0).astype(int)  # Preencher valores ausentes com zero\n",
        "\n",
        "qntd_registro_mes_ano_dia = qntd_registro_mes_ano_dia.sort_values(by='DATA')\n",
        "\n",
        "qntd_registro_mes_ano_dia['media_movel'] = qntd_registro_mes_ano_dia['count'].rolling(window=7).mean().round(2)\n",
        "\n",
        "qntd_registro_mes_ano_dia.to_excel('/content/drive/MyDrive/Colab Notebooks/MEDIA MOVEL OBITOS.xlsx', index=False)\n",
        "print(qntd_registro_mes_ano_dia.head(20))\n"
      ],
      "metadata": {
        "id": "bWYt9GI5jx4Z"
      },
      "execution_count": null,
      "outputs": []
    },
    {
      "cell_type": "code",
      "source": [
        "#Dados referente a óbitos por unidade de saúde\n",
        "dados_us = srag_final_obitos.NOME_UNIDADE_SAUDE.value_counts()\n",
        "dados_us_normalizado = srag_final_obitos.NOME_UNIDADE_SAUDE.value_counts(normalize=True)\n",
        "\n",
        "print(f\"Óbitos por unidade de saúde:\\n{dados_us}\")\n",
        "print(\"\")\n",
        "print(f\"Óbitos por unidade de saúde (em percentual):\\n{dados_us_normalizado}\")"
      ],
      "metadata": {
        "id": "2gPtvjR9bs6X"
      },
      "execution_count": null,
      "outputs": []
    },
    {
      "cell_type": "code",
      "source": [
        "#Dados referente a óbitos por bairro\n",
        "dados_bairro = srag_final_obitos.BAIRRO_UNIDADE_SAUDE.value_counts()\n",
        "dados_bairro_normalizado = srag_final_obitos.BAIRRO_UNIDADE_SAUDE.value_counts(normalize=True)\n",
        "\n",
        "print(f\"Óbitos por bairro:\\n{dados_bairro}\")\n",
        "print(\"\")\n",
        "print(f\"Óbitos por bairro (em percentual):\\n{dados_bairro_normalizado}\")"
      ],
      "metadata": {
        "id": "C3OZrYeJcYfH"
      },
      "execution_count": null,
      "outputs": []
    },
    {
      "cell_type": "code",
      "source": [
        "#Óbitos por bairro e US\n",
        "obitos_por_bairro_e_us = srag_final_obitos.groupby(['NOME_UNIDADE_SAUDE', 'BAIRRO_UNIDADE_SAUDE']).size().reset_index(name='count')\n",
        "obitos_por_bairro_e_us = obitos_por_bairro_e_us.sort_values(by='count', ascending=False)\n",
        "obitos_por_bairro_e_us"
      ],
      "metadata": {
        "id": "Uk6sPSKJcW-d"
      },
      "execution_count": null,
      "outputs": []
    },
    {
      "cell_type": "code",
      "source": [
        "#Dados referente a óbitos e vacinas\n",
        "dados_vacinas_obito = srag_final_obitos.RECEBEU_VACINA_COVID.value_counts()\n",
        "dados_vacinas_obito_normalizado = srag_final_obitos.RECEBEU_VACINA_COVID.value_counts(normalize=True)\n",
        "\n",
        "print(f\"Óbitos e vacinação:\\n{dados_vacinas_obito}\")\n",
        "print(\"\")\n",
        "print(f\"Óbitos e vacinação (em percentual):\\n{dados_vacinas_obito_normalizado}\")"
      ],
      "metadata": {
        "id": "GSbPwbMKdALD"
      },
      "execution_count": null,
      "outputs": []
    },
    {
      "cell_type": "code",
      "source": [
        "# Filtrando os dados de cura da COVID\n",
        "srag_final_cura = srag_final.loc[srag_final['EVOLUCAO'] == 'CURA']"
      ],
      "metadata": {
        "id": "1YrRl1WCdUPq"
      },
      "execution_count": null,
      "outputs": []
    },
    {
      "cell_type": "code",
      "source": [
        "#Dados referente a cura e vacinas\n",
        "dados_vacinas_cura = srag_final_cura.RECEBEU_VACINA_COVID.value_counts()\n",
        "dados_vacinas_cura_normalizado = srag_final_cura.RECEBEU_VACINA_COVID.value_counts(normalize=True)\n",
        "\n",
        "print(f\"Cura e vacinação:\\n{dados_vacinas_cura}\")\n",
        "print(\"\")\n",
        "print(f\"Cura e vacinação (em percentual):\\n{dados_vacinas_cura_normalizado}\")"
      ],
      "metadata": {
        "id": "jG4qG_r4dedD"
      },
      "execution_count": null,
      "outputs": []
    },
    {
      "cell_type": "code",
      "source": [
        "#Dados referente a óbitos e  municipio do paciente\n",
        "dados_municipio_paciente = srag_final_obitos.MUNICIPIO_PACIENTE.value_counts()\n",
        "dados_municipio_paciente_normalizado = srag_final_obitos.MUNICIPIO_PACIENTE.value_counts(normalize=True)\n",
        "\n",
        "print(f\"Óbitos e Municipio do Paciente:\\n{dados_municipio_paciente.head(6)}\")\n",
        "print(\"\")\n",
        "print(f\"Óbitos e Municipio do Paciente (em percentual):\\n{dados_municipio_paciente_normalizado}\")"
      ],
      "metadata": {
        "id": "jGHI2bIqelBI"
      },
      "execution_count": null,
      "outputs": []
    },
    {
      "cell_type": "code",
      "source": [
        "#Dados referente a óbitos e  UF do paciente\n",
        "dados_uf_paciente = srag_final_obitos.UF_PACIENTE.value_counts()\n",
        "dados_uf_paciente_normalizado = srag_final_obitos.UF_PACIENTE.value_counts(normalize=True)\n",
        "\n",
        "print(f\"Óbitos e UF do Paciente:\\n{dados_uf_paciente}\")\n",
        "print(\"\")\n",
        "print(f\"Óbitos e UF do Paciente (em percentual):\\n{dados_uf_paciente_normalizado}\")"
      ],
      "metadata": {
        "id": "y0ZK79IWe2Ww"
      },
      "execution_count": null,
      "outputs": []
    },
    {
      "cell_type": "code",
      "source": [
        "#Dados referente a óbitos e  raça do paciente\n",
        "dados_raca_paciente = srag_final_obitos.RACA_PACIENTE.value_counts()\n",
        "dados_raca_paciente_normalizado = srag_final_obitos.RACA_PACIENTE.value_counts(normalize=True)\n",
        "\n",
        "print(f\"Óbitos e Raça do Paciente:\\n{dados_raca_paciente}\")\n",
        "print(\"\")\n",
        "print(f\"Óbitos e Raça do Paciente (em percentual):\\n{dados_raca_paciente_normalizado}\")"
      ],
      "metadata": {
        "id": "4h_86ZXDfbKP"
      },
      "execution_count": null,
      "outputs": []
    },
    {
      "cell_type": "code",
      "source": [
        "#Dados referente a óbitos e  sexo do paciente\n",
        "dados_sexo_paciente = srag_final_obitos.CS_SEXO.value_counts()\n",
        "dados_sexo_paciente_normalizado = srag_final_obitos.CS_SEXO.value_counts(normalize=True)\n",
        "\n",
        "print(f\"Óbitos e Sexo do Paciente:\\n{dados_sexo_paciente}\")\n",
        "print(\"\")\n",
        "print(f\"Óbitos e Sexo do Paciente (em percentual):\\n{dados_sexo_paciente_normalizado}\")"
      ],
      "metadata": {
        "id": "GphX2CfPfnAl"
      },
      "execution_count": null,
      "outputs": []
    },
    {
      "cell_type": "code",
      "source": [
        "#Dados referente a óbitos e  idade do paciente\n",
        "maior_valor = srag_final_obitos['IDADE_PACIENTE'].max()\n",
        "menor_valor = srag_final_obitos['IDADE_PACIENTE'].min()\n",
        "media_valor = srag_final_obitos['IDADE_PACIENTE'].mean()\n",
        "\n",
        "qntd_obitos_por_idade = srag_final_obitos.groupby('IDADE_PACIENTE').count()\n",
        "\n",
        "print(f\" MAIOR IDADE: {maior_valor}\")\n",
        "print(f\" MENOR IDADE: {menor_valor}\")\n",
        "print(f\" MEDIA IDADES: {media_valor}\")\n",
        "\n",
        "qntd_obitos_por_idade"
      ],
      "metadata": {
        "id": "d6gUqbDDgGny"
      },
      "execution_count": null,
      "outputs": []
    },
    {
      "cell_type": "code",
      "source": [
        "#Dados referente a óbitos e cura por faixa etária\n",
        "obitos0a2 = srag_final_obitos[(srag_final_obitos['IDADE_PACIENTE'] <= 2)]\n",
        "obitos0a2_masculino = obitos0a2[(obitos0a2['CS_SEXO'] == 'M')].shape[0]\n",
        "obitos0a2_feminino =  obitos0a2[(obitos0a2['CS_SEXO'] == 'F')].shape[0]\n",
        "obitos0a2_total = obitos0a2.shape[0]\n",
        "\n",
        "obitos3a4 = srag_final_obitos[(srag_final_obitos['IDADE_PACIENTE'] >= 3) & (srag_final_obitos['IDADE_PACIENTE'] <= 4)]\n",
        "obitos3a4_masculino = obitos3a4[(obitos3a4['CS_SEXO'] == 'M')].shape[0]\n",
        "obitos3a4_feminino =  obitos3a4[(obitos3a4['CS_SEXO'] == 'F')].shape[0]\n",
        "obitos3a4_total = obitos3a4.shape[0]\n",
        "\n",
        "obitos5a11 = srag_final_obitos[(srag_final_obitos['IDADE_PACIENTE'] >= 5) & (srag_final_obitos['IDADE_PACIENTE'] <= 11)]\n",
        "obitos5a11_masculino = obitos5a11[(obitos5a11['CS_SEXO'] == 'M')].shape[0]\n",
        "obitos5a11_feminino =  obitos5a11[(obitos5a11['CS_SEXO'] == 'F')].shape[0]\n",
        "obitos5a11_total = obitos5a11.shape[0]\n",
        "\n",
        "obitos12a17 = srag_final_obitos[(srag_final_obitos['IDADE_PACIENTE'] >= 12) & (srag_final_obitos['IDADE_PACIENTE'] <= 17)]\n",
        "obitos12a17_masculino = obitos12a17[(obitos12a17['CS_SEXO'] == 'M')].shape[0]\n",
        "obitos12a17_feminino =  obitos12a17[(obitos12a17['CS_SEXO'] == 'F')].shape[0]\n",
        "obitos12a17_total = obitos12a17.shape[0]\n",
        "\n",
        "obito18a64 = srag_final_obitos[(srag_final_obitos['IDADE_PACIENTE'] >= 18) & (srag_final_obitos['IDADE_PACIENTE'] <= 64)]\n",
        "obito18a64_masculino = obito18a64[(obito18a64['CS_SEXO'] == 'M')].shape[0]\n",
        "obito18a64_feminino =  obito18a64[(obito18a64['CS_SEXO'] == 'F')].shape[0]\n",
        "obito18a64_total = obito18a64.shape[0]\n",
        "\n",
        "obitos65a69 = srag_final_obitos[(srag_final_obitos['IDADE_PACIENTE'] >= 65) & (srag_final_obitos['IDADE_PACIENTE'] <= 69)]\n",
        "obitos65a69_masculino = obitos65a69[(obitos65a69['CS_SEXO'] == 'M')].shape[0]\n",
        "obitos65a69_feminino =  obitos65a69[(obitos65a69['CS_SEXO'] == 'F')].shape[0]\n",
        "obitos65a69_total = obitos65a69.shape[0]\n",
        "\n",
        "obitos70a74 = srag_final_obitos[(srag_final_obitos['IDADE_PACIENTE'] >= 70) & (srag_final_obitos['IDADE_PACIENTE'] <= 74)]\n",
        "obitos70a74_masculino = obitos70a74[(obitos70a74['CS_SEXO'] == 'M')].shape[0]\n",
        "obitos70a74_feminino =  obitos70a74[(obitos70a74['CS_SEXO'] == 'F')].shape[0]\n",
        "obitos70a74_total = obitos70a74.shape[0]\n",
        "\n",
        "obitos75a79 = srag_final_obitos[(srag_final_obitos['IDADE_PACIENTE'] >= 75) & (srag_final_obitos['IDADE_PACIENTE'] <= 79)]\n",
        "obitos75a79_masculino = obitos75a79[(obitos75a79['CS_SEXO'] == 'M')].shape[0]\n",
        "obitos75a79_feminino =  obitos75a79[(obitos75a79['CS_SEXO'] == 'F')].shape[0]\n",
        "obitos75a79_total = obitos75a79.shape[0]\n",
        "\n",
        "obitos80mais = srag_final_obitos[(srag_final_obitos['IDADE_PACIENTE'] >= 80)]\n",
        "obitos80mais_masculino = obitos80mais[(obitos80mais['CS_SEXO'] == 'M')].shape[0]\n",
        "obitos80mais_feminino =  obitos80mais[(obitos80mais['CS_SEXO'] == 'F')].shape[0]\n",
        "obitos80mais_total = obitos80mais.shape[0]\n",
        "\n",
        "\n",
        "\n",
        "cura0a2 = srag_final_cura[(srag_final_cura['IDADE_PACIENTE'] <= 2)]\n",
        "cura0a2_masculino = cura0a2[(cura0a2['CS_SEXO'] == 'M')].shape[0]\n",
        "cura0a2_feminino =  cura0a2[(cura0a2['CS_SEXO'] == 'F')].shape[0]\n",
        "cura0a2_total = cura0a2.shape[0]\n",
        "\n",
        "cura3a4 = srag_final_cura[(srag_final_cura['IDADE_PACIENTE'] >= 3) & (srag_final_cura['IDADE_PACIENTE'] <= 4)]\n",
        "cura3a4_masculino = cura3a4[(cura3a4['CS_SEXO'] == 'M')].shape[0]\n",
        "cura3a4_feminino =  cura3a4[(cura3a4['CS_SEXO'] == 'F')].shape[0]\n",
        "cura3a4_total = cura3a4.shape[0]\n",
        "\n",
        "cura5a11 = srag_final_cura[(srag_final_cura['IDADE_PACIENTE'] >= 5) & (srag_final_cura['IDADE_PACIENTE'] <= 11)]\n",
        "cura5a11_masculino = cura5a11[(cura5a11['CS_SEXO'] == 'M')].shape[0]\n",
        "cura5a11_feminino =  cura5a11[(cura5a11['CS_SEXO'] == 'F')].shape[0]\n",
        "cura5a11_total = cura5a11.shape[0]\n",
        "\n",
        "cura12a17 = srag_final_cura[(srag_final_cura['IDADE_PACIENTE'] >= 12) & (srag_final_cura['IDADE_PACIENTE'] <= 17)]\n",
        "cura12a17_masculino = cura12a17[(cura12a17['CS_SEXO'] == 'M')].shape[0]\n",
        "cura12a17_feminino =  cura12a17[(cura12a17['CS_SEXO'] == 'F')].shape[0]\n",
        "cura12a17_total = cura12a17.shape[0]\n",
        "\n",
        "cura18a64 = srag_final_cura[(srag_final_cura['IDADE_PACIENTE'] >= 18) & (srag_final_cura['IDADE_PACIENTE'] <= 64)]\n",
        "cura18a64_masculino = cura18a64[(cura18a64['CS_SEXO'] == 'M')].shape[0]\n",
        "cura18a64_feminino =  cura18a64[(cura18a64['CS_SEXO'] == 'F')].shape[0]\n",
        "cura18a64_total = cura18a64.shape[0]\n",
        "\n",
        "cura65a69 = srag_final_cura[(srag_final_cura['IDADE_PACIENTE'] >= 65) & (srag_final_cura['IDADE_PACIENTE'] <= 69)]\n",
        "cura65a69_masculino = cura65a69[(cura65a69['CS_SEXO'] == 'M')].shape[0]\n",
        "cura65a69_feminino =  cura65a69[(cura65a69['CS_SEXO'] == 'F')].shape[0]\n",
        "cura65a69_total = cura65a69.shape[0]\n",
        "\n",
        "cura70a74 = srag_final_cura[(srag_final_cura['IDADE_PACIENTE'] >= 70) & (srag_final_cura['IDADE_PACIENTE'] <= 74)]\n",
        "cura70a74_masculino = cura70a74[(cura70a74['CS_SEXO'] == 'M')].shape[0]\n",
        "cura70a74_feminino =  cura70a74[(cura70a74['CS_SEXO'] == 'F')].shape[0]\n",
        "cura70a74_total = cura70a74.shape[0]\n",
        "\n",
        "cura75a79 = srag_final_cura[(srag_final_cura['IDADE_PACIENTE'] >= 75) & (srag_final_cura['IDADE_PACIENTE'] <= 79)]\n",
        "cura75a79_masculino = cura75a79[(cura75a79['CS_SEXO'] == 'M')].shape[0]\n",
        "cura75a79_feminino =  cura75a79[(cura75a79['CS_SEXO'] == 'F')].shape[0]\n",
        "cura75a79_total = cura75a79.shape[0]\n",
        "\n",
        "cura80mais = srag_final_cura[(srag_final_cura['IDADE_PACIENTE'] >= 80)]\n",
        "cura80mais_masculino = cura80mais[(cura80mais['CS_SEXO'] == 'M')].shape[0]\n",
        "cura80mais_feminino =  cura80mais[(cura80mais['CS_SEXO'] == 'F')].shape[0]\n",
        "cura80mais_total = cura80mais.shape[0]\n",
        "\n",
        "print(f\"ÓBITOS (TOTAL)\")\n",
        "print(f\"6 meses a 2 anos: {obitos0a2_total}\")\n",
        "print(f\"3 a 4 anos: {obitos3a4_total}\")\n",
        "print(f\"5 a 11 anos: {obitos5a11_total}\")\n",
        "print(f\"12 a 17 anos: {obitos12a17_total}\")\n",
        "print(f\"18 a 64 anos: {obito18a64_total}\")\n",
        "print(f\"65 a 69 anos: {obitos65a69_total}\")\n",
        "print(f\"70 a 74 anos: {obitos70a74_total}\")\n",
        "print(f\"75 a 79 anos: {obitos75a79_total}\")\n",
        "print(f\"80 ou mais anos: {obitos80mais_total}\")\n",
        "print(\"\")\n",
        "print(f\"CURA (TOTAL)\")\n",
        "print(f\"6 meses a 2 anos: {cura0a2_total}\")\n",
        "print(f\"3 a 4 anos: {cura3a4_total}\")\n",
        "print(f\"5 a 11 anos: {cura5a11_total}\")\n",
        "print(f\"12 a 17 anos: {cura12a17_total}\")\n",
        "print(f\"18 a 64 anos: {cura18a64_total}\")\n",
        "print(f\"65 a 69 anos: {cura65a69_total}\")\n",
        "print(f\"70 a 74 anos: {cura70a74_total}\")\n",
        "print(f\"75 a 79 anos: {cura75a79_total}\")\n",
        "print(f\"80 ou mais anos: {cura80mais_total}\")\n",
        "\n",
        "print(\"=========================================================================================================================================================\")\n",
        "\n",
        "print(f\"ÓBITOS (MASCULINO)\")\n",
        "print(f\"6 meses a 2 anos: {obitos0a2_masculino}\")\n",
        "print(f\"3 a 4 anos: {obitos3a4_masculino}\")\n",
        "print(f\"5 a 11 anos: {obitos5a11_masculino}\")\n",
        "print(f\"12 a 17 anos: {obitos12a17_masculino}\")\n",
        "print(f\"18 a 64 anos: {obito18a64_masculino}\")\n",
        "print(f\"65 a 69 anos: {obitos65a69_masculino}\")\n",
        "print(f\"70 a 74 anos: {obitos70a74_masculino}\")\n",
        "print(f\"75 a 79 anos: {obitos75a79_masculino}\")\n",
        "print(f\"80 ou mais anos: {obitos80mais_masculino}\")\n",
        "print(\"\")\n",
        "print(f\"CURA (MASCULINO)\")\n",
        "print(f\"6 meses a 2 anos: {cura0a2_masculino}\")\n",
        "print(f\"3 a 4 anos: {cura3a4_masculino}\")\n",
        "print(f\"5 a 11 anos: {cura5a11_masculino}\")\n",
        "print(f\"12 a 17 anos: {cura12a17_masculino}\")\n",
        "print(f\"18 a 64 anos: {cura18a64_masculino}\")\n",
        "print(f\"65 a 69 anos: {cura65a69_masculino}\")\n",
        "print(f\"70 a 74 anos: {cura70a74_masculino}\")\n",
        "print(f\"75 a 79 anos: {cura75a79_masculino}\")\n",
        "print(f\"80 ou mais anos: {cura80mais_masculino}\")\n",
        "\n",
        "print(\"=========================================================================================================================================================\")\n",
        "\n",
        "print(f\"ÓBITOS (FEMININO)\")\n",
        "print(f\"6 meses a 2 anos: {obitos0a2_feminino}\")\n",
        "print(f\"3 a 4 anos: {obitos3a4_feminino}\")\n",
        "print(f\"5 a 11 anos: {obitos5a11_feminino}\")\n",
        "print(f\"12 a 17 anos: {obitos12a17_feminino}\")\n",
        "print(f\"18 a 64 anos: {obito18a64_feminino}\")\n",
        "print(f\"65 a 69 anos: {obitos65a69_feminino}\")\n",
        "print(f\"70 a 74 anos: {obitos70a74_feminino}\")\n",
        "print(f\"75 a 79 anos: {obitos75a79_feminino}\")\n",
        "print(f\"80 ou mais anos: {obitos80mais_feminino}\")\n",
        "print(\"\")\n",
        "print(f\"CURA (FEMININO)\")\n",
        "print(f\"6 meses a 2 anos: {cura0a2_feminino}\")\n",
        "print(f\"3 a 4 anos: {cura3a4_feminino}\")\n",
        "print(f\"5 a 11 anos: {cura5a11_feminino}\")\n",
        "print(f\"12 a 17 anos: {cura12a17_feminino}\")\n",
        "print(f\"18 a 64 anos: {cura18a64_feminino}\")\n",
        "print(f\"65 a 69 anos: {cura65a69_feminino}\")\n",
        "print(f\"70 a 74 anos: {cura70a74_feminino}\")\n",
        "print(f\"75 a 79 anos: {cura75a79_feminino}\")\n",
        "print(f\"80 ou mais anos: {cura80mais_feminino}\")"
      ],
      "metadata": {
        "id": "2r9kojDKZP7-"
      },
      "execution_count": null,
      "outputs": []
    },
    {
      "cell_type": "code",
      "source": [
        "#Dados referente a locomoção do paciente\n",
        "\n",
        "# Consulta para obter a contagem de óbitos por município do paciente\n",
        "dados_paciente_municipio = srag_final_obitos[\"MUNICIPIO_PACIENTE\"].value_counts()\n",
        "\n",
        "# Obter a contagem de óbitos de pacientes Aracajuanos\n",
        "obitos_aracaju = dados_paciente_municipio.get(\"ARACAJU\", 0)\n",
        "\n",
        "# Obter a contagem total de óbitos de pacientes de outra cidade\n",
        "obitos_outras_cidades = dados_paciente_municipio.sum() - obitos_aracaju\n",
        "\n",
        "# Calcular os percentuais\n",
        "percentual_aracaju = (obitos_aracaju / dados_paciente_municipio.sum()) * 100\n",
        "percentual_outras_cidades = (obitos_outras_cidades / dados_paciente_municipio.sum()) * 100\n",
        "\n",
        "# Criar um novo DataFrame com os resultados\n",
        "dados_locomocao_vacinacao = pd.DataFrame({\"Quantidade de óbitos por município do paciente (locomoção)\": [obitos_aracaju, obitos_outras_cidades],\n",
        "                               \"Percentual\": [percentual_aracaju, percentual_outras_cidades]},\n",
        "                              index=[\"ARACAJU\", \"OUTRAS CIDADES\"])\n",
        "\n",
        "# Exibir os resultados\n",
        "print(dados_locomocao_vacinacao)\n",
        "\n"
      ],
      "metadata": {
        "id": "Gn8uj_lJv2fL"
      },
      "execution_count": null,
      "outputs": []
    }
  ]
}